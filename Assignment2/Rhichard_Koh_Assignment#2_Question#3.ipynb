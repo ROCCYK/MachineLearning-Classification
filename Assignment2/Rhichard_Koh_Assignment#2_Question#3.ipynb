{
 "cells": [
  {
   "cell_type": "markdown",
   "metadata": {},
   "source": [
    "# <u>PART-A</u>: Using Scikit-learn library"
   ]
  },
  {
   "cell_type": "code",
   "execution_count": 284,
   "metadata": {},
   "outputs": [],
   "source": [
    "#Load Libraries\n",
    "import numpy as np\n",
    "import pandas as pd\n",
    "import matplotlib.pyplot as plt\n",
    "%matplotlib inline\n",
    "import seaborn as sns"
   ]
  },
  {
   "cell_type": "code",
   "execution_count": 285,
   "metadata": {},
   "outputs": [],
   "source": [
    "import numpy as np\n",
    "import pandas as pd"
   ]
  },
  {
   "cell_type": "code",
   "execution_count": 286,
   "metadata": {},
   "outputs": [
    {
     "data": {
      "text/plain": "      response   age sex on_thyroxine antithyroid_medication thyroid_surgery  \\\n0  hypothyroid  72.0   M            f                      f               f   \n1  hypothyroid  15.0   F            t                      f               f   \n2  hypothyroid  24.0   M            f                      f               f   \n3  hypothyroid  24.0   F            f                      f               f   \n4  hypothyroid  77.0   M            f                      f               f   \n5  hypothyroid  85.0   F            f                      f               f   \n6  hypothyroid  64.0   F            f                      f               t   \n7  hypothyroid  72.0   F            f                      f               f   \n8  hypothyroid  20.0   F            f                      f               f   \n9  hypothyroid  42.0   F            f                      f               f   \n\n  pregnant sick tumor lithium goitre    TSH   T3   TT4   T4U   FTI  \n0        f    f     f       f      f   30.0  0.6  15.0  1.48  10.0  \n1        f    f     f       f      f  145.0  1.7  19.0  1.13  17.0  \n2        f    f     f       f      f    0.0  0.2   4.0  1.00   0.0  \n3        f    f     f       f      f  430.0  0.4   6.0  1.04   6.0  \n4        f    f     f       f      f    7.3  1.2  57.0  1.28  44.0  \n5        f    f     f       f      f  138.0  1.1  27.0  1.19  23.0  \n6        f    f     f       f      f    7.7  1.3  54.0  0.86  63.0  \n7        f    f     f       f      f   21.0  1.9  34.0  1.05  32.0  \n8        f    f     f       f      f   92.0  NaN  39.0  1.21  32.0  \n9        f    f     f       f      f   48.0  NaN   7.6  1.02   7.5  ",
      "text/html": "<div>\n<style scoped>\n    .dataframe tbody tr th:only-of-type {\n        vertical-align: middle;\n    }\n\n    .dataframe tbody tr th {\n        vertical-align: top;\n    }\n\n    .dataframe thead th {\n        text-align: right;\n    }\n</style>\n<table border=\"1\" class=\"dataframe\">\n  <thead>\n    <tr style=\"text-align: right;\">\n      <th></th>\n      <th>response</th>\n      <th>age</th>\n      <th>sex</th>\n      <th>on_thyroxine</th>\n      <th>antithyroid_medication</th>\n      <th>thyroid_surgery</th>\n      <th>pregnant</th>\n      <th>sick</th>\n      <th>tumor</th>\n      <th>lithium</th>\n      <th>goitre</th>\n      <th>TSH</th>\n      <th>T3</th>\n      <th>TT4</th>\n      <th>T4U</th>\n      <th>FTI</th>\n    </tr>\n  </thead>\n  <tbody>\n    <tr>\n      <th>0</th>\n      <td>hypothyroid</td>\n      <td>72.0</td>\n      <td>M</td>\n      <td>f</td>\n      <td>f</td>\n      <td>f</td>\n      <td>f</td>\n      <td>f</td>\n      <td>f</td>\n      <td>f</td>\n      <td>f</td>\n      <td>30.0</td>\n      <td>0.6</td>\n      <td>15.0</td>\n      <td>1.48</td>\n      <td>10.0</td>\n    </tr>\n    <tr>\n      <th>1</th>\n      <td>hypothyroid</td>\n      <td>15.0</td>\n      <td>F</td>\n      <td>t</td>\n      <td>f</td>\n      <td>f</td>\n      <td>f</td>\n      <td>f</td>\n      <td>f</td>\n      <td>f</td>\n      <td>f</td>\n      <td>145.0</td>\n      <td>1.7</td>\n      <td>19.0</td>\n      <td>1.13</td>\n      <td>17.0</td>\n    </tr>\n    <tr>\n      <th>2</th>\n      <td>hypothyroid</td>\n      <td>24.0</td>\n      <td>M</td>\n      <td>f</td>\n      <td>f</td>\n      <td>f</td>\n      <td>f</td>\n      <td>f</td>\n      <td>f</td>\n      <td>f</td>\n      <td>f</td>\n      <td>0.0</td>\n      <td>0.2</td>\n      <td>4.0</td>\n      <td>1.00</td>\n      <td>0.0</td>\n    </tr>\n    <tr>\n      <th>3</th>\n      <td>hypothyroid</td>\n      <td>24.0</td>\n      <td>F</td>\n      <td>f</td>\n      <td>f</td>\n      <td>f</td>\n      <td>f</td>\n      <td>f</td>\n      <td>f</td>\n      <td>f</td>\n      <td>f</td>\n      <td>430.0</td>\n      <td>0.4</td>\n      <td>6.0</td>\n      <td>1.04</td>\n      <td>6.0</td>\n    </tr>\n    <tr>\n      <th>4</th>\n      <td>hypothyroid</td>\n      <td>77.0</td>\n      <td>M</td>\n      <td>f</td>\n      <td>f</td>\n      <td>f</td>\n      <td>f</td>\n      <td>f</td>\n      <td>f</td>\n      <td>f</td>\n      <td>f</td>\n      <td>7.3</td>\n      <td>1.2</td>\n      <td>57.0</td>\n      <td>1.28</td>\n      <td>44.0</td>\n    </tr>\n    <tr>\n      <th>5</th>\n      <td>hypothyroid</td>\n      <td>85.0</td>\n      <td>F</td>\n      <td>f</td>\n      <td>f</td>\n      <td>f</td>\n      <td>f</td>\n      <td>f</td>\n      <td>f</td>\n      <td>f</td>\n      <td>f</td>\n      <td>138.0</td>\n      <td>1.1</td>\n      <td>27.0</td>\n      <td>1.19</td>\n      <td>23.0</td>\n    </tr>\n    <tr>\n      <th>6</th>\n      <td>hypothyroid</td>\n      <td>64.0</td>\n      <td>F</td>\n      <td>f</td>\n      <td>f</td>\n      <td>t</td>\n      <td>f</td>\n      <td>f</td>\n      <td>f</td>\n      <td>f</td>\n      <td>f</td>\n      <td>7.7</td>\n      <td>1.3</td>\n      <td>54.0</td>\n      <td>0.86</td>\n      <td>63.0</td>\n    </tr>\n    <tr>\n      <th>7</th>\n      <td>hypothyroid</td>\n      <td>72.0</td>\n      <td>F</td>\n      <td>f</td>\n      <td>f</td>\n      <td>f</td>\n      <td>f</td>\n      <td>f</td>\n      <td>f</td>\n      <td>f</td>\n      <td>f</td>\n      <td>21.0</td>\n      <td>1.9</td>\n      <td>34.0</td>\n      <td>1.05</td>\n      <td>32.0</td>\n    </tr>\n    <tr>\n      <th>8</th>\n      <td>hypothyroid</td>\n      <td>20.0</td>\n      <td>F</td>\n      <td>f</td>\n      <td>f</td>\n      <td>f</td>\n      <td>f</td>\n      <td>f</td>\n      <td>f</td>\n      <td>f</td>\n      <td>f</td>\n      <td>92.0</td>\n      <td>NaN</td>\n      <td>39.0</td>\n      <td>1.21</td>\n      <td>32.0</td>\n    </tr>\n    <tr>\n      <th>9</th>\n      <td>hypothyroid</td>\n      <td>42.0</td>\n      <td>F</td>\n      <td>f</td>\n      <td>f</td>\n      <td>f</td>\n      <td>f</td>\n      <td>f</td>\n      <td>f</td>\n      <td>f</td>\n      <td>f</td>\n      <td>48.0</td>\n      <td>NaN</td>\n      <td>7.6</td>\n      <td>1.02</td>\n      <td>7.5</td>\n    </tr>\n  </tbody>\n</table>\n</div>"
     },
     "execution_count": 286,
     "metadata": {},
     "output_type": "execute_result"
    }
   ],
   "source": [
    "#Load Dataset\n",
    "df=pd.read_csv('./hypothyroid.csv',na_values=['?'])\n",
    "df.head(10)"
   ]
  },
  {
   "cell_type": "code",
   "execution_count": 287,
   "metadata": {},
   "outputs": [
    {
     "data": {
      "text/plain": "(3163, 16)"
     },
     "execution_count": 287,
     "metadata": {},
     "output_type": "execute_result"
    }
   ],
   "source": [
    "df.shape"
   ]
  },
  {
   "cell_type": "markdown",
   "metadata": {},
   "source": [
    "## Data Preprocessing"
   ]
  },
  {
   "cell_type": "markdown",
   "metadata": {},
   "source": [
    "### Step 1: Are any data points missing? Check it using df.isna() method"
   ]
  },
  {
   "cell_type": "code",
   "execution_count": 288,
   "metadata": {},
   "outputs": [
    {
     "data": {
      "text/plain": "response                    0\nage                       446\nsex                        73\non_thyroxine                0\nantithyroid_medication      0\nthyroid_surgery             0\npregnant                    0\nsick                        0\ntumor                       0\nlithium                     0\ngoitre                      0\nTSH                       468\nT3                        695\nTT4                       249\nT4U                       248\nFTI                       247\ndtype: int64"
     },
     "execution_count": 288,
     "metadata": {},
     "output_type": "execute_result"
    }
   ],
   "source": [
    "df.isna().sum()"
   ]
  },
  {
   "cell_type": "markdown",
   "metadata": {},
   "source": [
    "### Step 2: Use df.dropna() method to drop those missing rows"
   ]
  },
  {
   "cell_type": "code",
   "execution_count": 289,
   "metadata": {},
   "outputs": [],
   "source": [
    "df = df.dropna()"
   ]
  },
  {
   "cell_type": "code",
   "execution_count": 290,
   "metadata": {},
   "outputs": [
    {
     "data": {
      "text/plain": "(2000, 16)"
     },
     "execution_count": 290,
     "metadata": {},
     "output_type": "execute_result"
    }
   ],
   "source": [
    "df.shape"
   ]
  },
  {
   "cell_type": "markdown",
   "metadata": {},
   "source": [
    "### Step 3: Creating a transformation function to convert + or - responses to 1 and 0"
   ]
  },
  {
   "cell_type": "code",
   "execution_count": 291,
   "metadata": {},
   "outputs": [],
   "source": [
    "def class_convert(response):\n",
    "    if response=='hypothyroid':\n",
    "        return 1\n",
    "    else:\n",
    "        return 0"
   ]
  },
  {
   "cell_type": "code",
   "execution_count": 292,
   "metadata": {},
   "outputs": [],
   "source": [
    "df['response']=df['response'].apply(class_convert)"
   ]
  },
  {
   "cell_type": "code",
   "execution_count": 293,
   "metadata": {},
   "outputs": [
    {
     "data": {
      "text/plain": "   response   age sex on_thyroxine antithyroid_medication thyroid_surgery  \\\n0         1  72.0   M            f                      f               f   \n1         1  15.0   F            t                      f               f   \n2         1  24.0   M            f                      f               f   \n3         1  24.0   F            f                      f               f   \n4         1  77.0   M            f                      f               f   \n\n  pregnant sick tumor lithium goitre    TSH   T3   TT4   T4U   FTI  \n0        f    f     f       f      f   30.0  0.6  15.0  1.48  10.0  \n1        f    f     f       f      f  145.0  1.7  19.0  1.13  17.0  \n2        f    f     f       f      f    0.0  0.2   4.0  1.00   0.0  \n3        f    f     f       f      f  430.0  0.4   6.0  1.04   6.0  \n4        f    f     f       f      f    7.3  1.2  57.0  1.28  44.0  ",
      "text/html": "<div>\n<style scoped>\n    .dataframe tbody tr th:only-of-type {\n        vertical-align: middle;\n    }\n\n    .dataframe tbody tr th {\n        vertical-align: top;\n    }\n\n    .dataframe thead th {\n        text-align: right;\n    }\n</style>\n<table border=\"1\" class=\"dataframe\">\n  <thead>\n    <tr style=\"text-align: right;\">\n      <th></th>\n      <th>response</th>\n      <th>age</th>\n      <th>sex</th>\n      <th>on_thyroxine</th>\n      <th>antithyroid_medication</th>\n      <th>thyroid_surgery</th>\n      <th>pregnant</th>\n      <th>sick</th>\n      <th>tumor</th>\n      <th>lithium</th>\n      <th>goitre</th>\n      <th>TSH</th>\n      <th>T3</th>\n      <th>TT4</th>\n      <th>T4U</th>\n      <th>FTI</th>\n    </tr>\n  </thead>\n  <tbody>\n    <tr>\n      <th>0</th>\n      <td>1</td>\n      <td>72.0</td>\n      <td>M</td>\n      <td>f</td>\n      <td>f</td>\n      <td>f</td>\n      <td>f</td>\n      <td>f</td>\n      <td>f</td>\n      <td>f</td>\n      <td>f</td>\n      <td>30.0</td>\n      <td>0.6</td>\n      <td>15.0</td>\n      <td>1.48</td>\n      <td>10.0</td>\n    </tr>\n    <tr>\n      <th>1</th>\n      <td>1</td>\n      <td>15.0</td>\n      <td>F</td>\n      <td>t</td>\n      <td>f</td>\n      <td>f</td>\n      <td>f</td>\n      <td>f</td>\n      <td>f</td>\n      <td>f</td>\n      <td>f</td>\n      <td>145.0</td>\n      <td>1.7</td>\n      <td>19.0</td>\n      <td>1.13</td>\n      <td>17.0</td>\n    </tr>\n    <tr>\n      <th>2</th>\n      <td>1</td>\n      <td>24.0</td>\n      <td>M</td>\n      <td>f</td>\n      <td>f</td>\n      <td>f</td>\n      <td>f</td>\n      <td>f</td>\n      <td>f</td>\n      <td>f</td>\n      <td>f</td>\n      <td>0.0</td>\n      <td>0.2</td>\n      <td>4.0</td>\n      <td>1.00</td>\n      <td>0.0</td>\n    </tr>\n    <tr>\n      <th>3</th>\n      <td>1</td>\n      <td>24.0</td>\n      <td>F</td>\n      <td>f</td>\n      <td>f</td>\n      <td>f</td>\n      <td>f</td>\n      <td>f</td>\n      <td>f</td>\n      <td>f</td>\n      <td>f</td>\n      <td>430.0</td>\n      <td>0.4</td>\n      <td>6.0</td>\n      <td>1.04</td>\n      <td>6.0</td>\n    </tr>\n    <tr>\n      <th>4</th>\n      <td>1</td>\n      <td>77.0</td>\n      <td>M</td>\n      <td>f</td>\n      <td>f</td>\n      <td>f</td>\n      <td>f</td>\n      <td>f</td>\n      <td>f</td>\n      <td>f</td>\n      <td>f</td>\n      <td>7.3</td>\n      <td>1.2</td>\n      <td>57.0</td>\n      <td>1.28</td>\n      <td>44.0</td>\n    </tr>\n  </tbody>\n</table>\n</div>"
     },
     "execution_count": 293,
     "metadata": {},
     "output_type": "execute_result"
    }
   ],
   "source": [
    "df.head()"
   ]
  },
  {
   "cell_type": "code",
   "execution_count": 294,
   "metadata": {},
   "outputs": [
    {
     "data": {
      "text/plain": "response                    int64\nage                       float64\nsex                        object\non_thyroxine               object\nantithyroid_medication     object\nthyroid_surgery            object\npregnant                   object\nsick                       object\ntumor                      object\nlithium                    object\ngoitre                     object\nTSH                       float64\nT3                        float64\nTT4                       float64\nT4U                       float64\nFTI                       float64\ndtype: object"
     },
     "execution_count": 294,
     "metadata": {},
     "output_type": "execute_result"
    }
   ],
   "source": [
    "df.dtypes"
   ]
  },
  {
   "cell_type": "markdown",
   "metadata": {},
   "source": [
    "### Step 4: Create dummy variables for the categorical variables using get_dummies()"
   ]
  },
  {
   "cell_type": "code",
   "execution_count": 295,
   "metadata": {},
   "outputs": [],
   "source": [
    "df_dummies = pd.get_dummies(df, columns=['sex','on_thyroxine','antithyroid_medication','thyroid_surgery','pregnant','sick','tumor','lithium','goitre'])"
   ]
  },
  {
   "cell_type": "code",
   "execution_count": 296,
   "metadata": {},
   "outputs": [
    {
     "data": {
      "text/plain": "(2000, 25)"
     },
     "execution_count": 296,
     "metadata": {},
     "output_type": "execute_result"
    }
   ],
   "source": [
    "df_dummies.shape"
   ]
  },
  {
   "cell_type": "code",
   "execution_count": 297,
   "metadata": {},
   "outputs": [
    {
     "data": {
      "text/plain": "      response   age   TSH   T3    TT4   T4U    FTI  sex_F  sex_M  \\\n477          0  33.0  0.00  1.8   93.0  0.97   96.0      0      1   \n2504         0  59.0  0.50  1.7  118.0  0.94  126.0      1      0   \n2394         0  57.0  0.00  2.4   81.0  0.89   91.0      1      0   \n568          0  35.0  1.20  2.4   95.0  0.78  122.0      1      0   \n1896         0  71.0  0.02  2.2  152.0  0.78  196.0      1      0   \n3104         0  60.0  0.00  1.2   51.0  0.61   84.0      1      0   \n2214         0  36.0  0.30  1.1   69.0  0.60  114.0      0      1   \n758          0  20.0  0.90  3.3  156.0  1.67   93.0      1      0   \n1013         0  68.0  0.00  1.2   69.0  1.07   64.0      1      0   \n2409         0  37.0  1.40  1.7   91.0  0.98   93.0      1      0   \n\n      on_thyroxine_f  ...  pregnant_f  pregnant_t  sick_f  sick_t  tumor_f  \\\n477                1  ...           1           0       1       0        1   \n2504               1  ...           1           0       1       0        1   \n2394               1  ...           1           0       1       0        1   \n568                1  ...           1           0       1       0        1   \n1896               1  ...           1           0       0       1        1   \n3104               1  ...           1           0       1       0        1   \n2214               1  ...           1           0       1       0        1   \n758                1  ...           1           0       1       0        1   \n1013               0  ...           1           0       1       0        1   \n2409               1  ...           1           0       1       0        1   \n\n      tumor_t  lithium_f  lithium_t  goitre_f  goitre_t  \n477         0          1          0         1         0  \n2504        0          1          0         1         0  \n2394        0          1          0         1         0  \n568         0          1          0         1         0  \n1896        0          1          0         1         0  \n3104        0          1          0         1         0  \n2214        0          1          0         1         0  \n758         0          1          0         1         0  \n1013        0          1          0         1         0  \n2409        0          1          0         1         0  \n\n[10 rows x 25 columns]",
      "text/html": "<div>\n<style scoped>\n    .dataframe tbody tr th:only-of-type {\n        vertical-align: middle;\n    }\n\n    .dataframe tbody tr th {\n        vertical-align: top;\n    }\n\n    .dataframe thead th {\n        text-align: right;\n    }\n</style>\n<table border=\"1\" class=\"dataframe\">\n  <thead>\n    <tr style=\"text-align: right;\">\n      <th></th>\n      <th>response</th>\n      <th>age</th>\n      <th>TSH</th>\n      <th>T3</th>\n      <th>TT4</th>\n      <th>T4U</th>\n      <th>FTI</th>\n      <th>sex_F</th>\n      <th>sex_M</th>\n      <th>on_thyroxine_f</th>\n      <th>...</th>\n      <th>pregnant_f</th>\n      <th>pregnant_t</th>\n      <th>sick_f</th>\n      <th>sick_t</th>\n      <th>tumor_f</th>\n      <th>tumor_t</th>\n      <th>lithium_f</th>\n      <th>lithium_t</th>\n      <th>goitre_f</th>\n      <th>goitre_t</th>\n    </tr>\n  </thead>\n  <tbody>\n    <tr>\n      <th>477</th>\n      <td>0</td>\n      <td>33.0</td>\n      <td>0.00</td>\n      <td>1.8</td>\n      <td>93.0</td>\n      <td>0.97</td>\n      <td>96.0</td>\n      <td>0</td>\n      <td>1</td>\n      <td>1</td>\n      <td>...</td>\n      <td>1</td>\n      <td>0</td>\n      <td>1</td>\n      <td>0</td>\n      <td>1</td>\n      <td>0</td>\n      <td>1</td>\n      <td>0</td>\n      <td>1</td>\n      <td>0</td>\n    </tr>\n    <tr>\n      <th>2504</th>\n      <td>0</td>\n      <td>59.0</td>\n      <td>0.50</td>\n      <td>1.7</td>\n      <td>118.0</td>\n      <td>0.94</td>\n      <td>126.0</td>\n      <td>1</td>\n      <td>0</td>\n      <td>1</td>\n      <td>...</td>\n      <td>1</td>\n      <td>0</td>\n      <td>1</td>\n      <td>0</td>\n      <td>1</td>\n      <td>0</td>\n      <td>1</td>\n      <td>0</td>\n      <td>1</td>\n      <td>0</td>\n    </tr>\n    <tr>\n      <th>2394</th>\n      <td>0</td>\n      <td>57.0</td>\n      <td>0.00</td>\n      <td>2.4</td>\n      <td>81.0</td>\n      <td>0.89</td>\n      <td>91.0</td>\n      <td>1</td>\n      <td>0</td>\n      <td>1</td>\n      <td>...</td>\n      <td>1</td>\n      <td>0</td>\n      <td>1</td>\n      <td>0</td>\n      <td>1</td>\n      <td>0</td>\n      <td>1</td>\n      <td>0</td>\n      <td>1</td>\n      <td>0</td>\n    </tr>\n    <tr>\n      <th>568</th>\n      <td>0</td>\n      <td>35.0</td>\n      <td>1.20</td>\n      <td>2.4</td>\n      <td>95.0</td>\n      <td>0.78</td>\n      <td>122.0</td>\n      <td>1</td>\n      <td>0</td>\n      <td>1</td>\n      <td>...</td>\n      <td>1</td>\n      <td>0</td>\n      <td>1</td>\n      <td>0</td>\n      <td>1</td>\n      <td>0</td>\n      <td>1</td>\n      <td>0</td>\n      <td>1</td>\n      <td>0</td>\n    </tr>\n    <tr>\n      <th>1896</th>\n      <td>0</td>\n      <td>71.0</td>\n      <td>0.02</td>\n      <td>2.2</td>\n      <td>152.0</td>\n      <td>0.78</td>\n      <td>196.0</td>\n      <td>1</td>\n      <td>0</td>\n      <td>1</td>\n      <td>...</td>\n      <td>1</td>\n      <td>0</td>\n      <td>0</td>\n      <td>1</td>\n      <td>1</td>\n      <td>0</td>\n      <td>1</td>\n      <td>0</td>\n      <td>1</td>\n      <td>0</td>\n    </tr>\n    <tr>\n      <th>3104</th>\n      <td>0</td>\n      <td>60.0</td>\n      <td>0.00</td>\n      <td>1.2</td>\n      <td>51.0</td>\n      <td>0.61</td>\n      <td>84.0</td>\n      <td>1</td>\n      <td>0</td>\n      <td>1</td>\n      <td>...</td>\n      <td>1</td>\n      <td>0</td>\n      <td>1</td>\n      <td>0</td>\n      <td>1</td>\n      <td>0</td>\n      <td>1</td>\n      <td>0</td>\n      <td>1</td>\n      <td>0</td>\n    </tr>\n    <tr>\n      <th>2214</th>\n      <td>0</td>\n      <td>36.0</td>\n      <td>0.30</td>\n      <td>1.1</td>\n      <td>69.0</td>\n      <td>0.60</td>\n      <td>114.0</td>\n      <td>0</td>\n      <td>1</td>\n      <td>1</td>\n      <td>...</td>\n      <td>1</td>\n      <td>0</td>\n      <td>1</td>\n      <td>0</td>\n      <td>1</td>\n      <td>0</td>\n      <td>1</td>\n      <td>0</td>\n      <td>1</td>\n      <td>0</td>\n    </tr>\n    <tr>\n      <th>758</th>\n      <td>0</td>\n      <td>20.0</td>\n      <td>0.90</td>\n      <td>3.3</td>\n      <td>156.0</td>\n      <td>1.67</td>\n      <td>93.0</td>\n      <td>1</td>\n      <td>0</td>\n      <td>1</td>\n      <td>...</td>\n      <td>1</td>\n      <td>0</td>\n      <td>1</td>\n      <td>0</td>\n      <td>1</td>\n      <td>0</td>\n      <td>1</td>\n      <td>0</td>\n      <td>1</td>\n      <td>0</td>\n    </tr>\n    <tr>\n      <th>1013</th>\n      <td>0</td>\n      <td>68.0</td>\n      <td>0.00</td>\n      <td>1.2</td>\n      <td>69.0</td>\n      <td>1.07</td>\n      <td>64.0</td>\n      <td>1</td>\n      <td>0</td>\n      <td>0</td>\n      <td>...</td>\n      <td>1</td>\n      <td>0</td>\n      <td>1</td>\n      <td>0</td>\n      <td>1</td>\n      <td>0</td>\n      <td>1</td>\n      <td>0</td>\n      <td>1</td>\n      <td>0</td>\n    </tr>\n    <tr>\n      <th>2409</th>\n      <td>0</td>\n      <td>37.0</td>\n      <td>1.40</td>\n      <td>1.7</td>\n      <td>91.0</td>\n      <td>0.98</td>\n      <td>93.0</td>\n      <td>1</td>\n      <td>0</td>\n      <td>1</td>\n      <td>...</td>\n      <td>1</td>\n      <td>0</td>\n      <td>1</td>\n      <td>0</td>\n      <td>1</td>\n      <td>0</td>\n      <td>1</td>\n      <td>0</td>\n      <td>1</td>\n      <td>0</td>\n    </tr>\n  </tbody>\n</table>\n<p>10 rows × 25 columns</p>\n</div>"
     },
     "execution_count": 297,
     "metadata": {},
     "output_type": "execute_result"
    }
   ],
   "source": [
    "df_dummies.sample(10)"
   ]
  },
  {
   "cell_type": "markdown",
   "metadata": {},
   "source": [
    "## EDA"
   ]
  },
  {
   "cell_type": "markdown",
   "metadata": {},
   "source": [
    "### Step 1: Check for Class Balance"
   ]
  },
  {
   "cell_type": "code",
   "execution_count": 298,
   "metadata": {},
   "outputs": [
    {
     "name": "stdout",
     "output_type": "stream",
     "text": [
      "Class Split\n",
      "0    1878\n",
      "1     122\n",
      "Name: response, dtype: int64\n"
     ]
    },
    {
     "data": {
      "text/plain": "<Figure size 432x288 with 1 Axes>",
      "image/png": "[encoded data removed]"
     },
     "metadata": {
      "needs_background": "light"
     },
     "output_type": "display_data"
    }
   ],
   "source": [
    "import matplotlib.pyplot as plt\n",
    "import seaborn as sns\n",
    "print('Class Split')\n",
    "print(df_dummies.response.value_counts())\n",
    "sns.countplot(data=df_dummies,x='response').set(title='Classes Split for Dataset', xlabel='Classes',ylabel='Counts')\n",
    "plt.show()"
   ]
  },
  {
   "cell_type": "markdown",
   "metadata": {},
   "source": [
    "## Model Building"
   ]
  },
  {
   "cell_type": "markdown",
   "metadata": {},
   "source": [
    "### Step 1: Preliminary steps for model building"
   ]
  },
  {
   "cell_type": "code",
   "execution_count": 299,
   "metadata": {},
   "outputs": [],
   "source": [
    "#Define x and y variable\n",
    "x = df_dummies.drop('response',axis=1).to_numpy()\n",
    "y = df_dummies['response'].to_numpy()\n",
    "\n",
    "# Create Train and Test Datasets with test_size=.30\n",
    "from sklearn.model_selection import train_test_split\n",
    "x_train1, x_test1, y_train, y_test = train_test_split(x, y, test_size=0.30,stratify=y,random_state=42)\n",
    "\n",
    "#Scale the Data\n",
    "from sklearn.preprocessing import StandardScaler\n",
    "sc = StandardScaler()\n",
    "X_train = sc.fit_transform(x_train1)\n",
    "X_test = sc.transform(x_test1)"
   ]
  },
  {
   "cell_type": "code",
   "execution_count": 300,
   "metadata": {},
   "outputs": [
    {
     "name": "stdout",
     "output_type": "stream",
     "text": [
      "Training set shape (1400, 24)\n",
      "Test set shape (600, 24)\n"
     ]
    }
   ],
   "source": [
    "print(\"Training set shape\",X_train.shape)\n",
    "print(\"Test set shape\",X_test.shape)"
   ]
  },
  {
   "cell_type": "markdown",
   "metadata": {},
   "source": [
    "### Step 2: Build a classification model using LogisticRegression estimator from <u> Scikit-learn </u>"
   ]
  },
  {
   "cell_type": "code",
   "execution_count": 301,
   "metadata": {},
   "outputs": [
    {
     "data": {
      "text/plain": "LogisticRegression(class_weight='balanced', solver='newton-cg', tol=0.001)",
      "text/html": "<style>#sk-container-id-11 {color: black;background-color: white;}#sk-container-id-11 pre{padding: 0;}#sk-container-id-11 div.sk-toggleable {background-color: white;}#sk-container-id-11 label.sk-toggleable__label {cursor: pointer;display: block;width: 100%;margin-bottom: 0;padding: 0.3em;box-sizing: border-box;text-align: center;}#sk-container-id-11 label.sk-toggleable__label-arrow:before {content: \"▸\";float: left;margin-right: 0.25em;color: #696969;}#sk-container-id-11 label.sk-toggleable__label-arrow:hover:before {color: black;}#sk-container-id-11 div.sk-estimator:hover label.sk-toggleable__label-arrow:before {color: black;}#sk-container-id-11 div.sk-toggleable__content {max-height: 0;max-width: 0;overflow: hidden;text-align: left;background-color: #f0f8ff;}#sk-container-id-11 div.sk-toggleable__content pre {margin: 0.2em;color: black;border-radius: 0.25em;background-color: #f0f8ff;}#sk-container-id-11 input.sk-toggleable__control:checked~div.sk-toggleable__content {max-height: 200px;max-width: 100%;overflow: auto;}#sk-container-id-11 input.sk-toggleable__control:checked~label.sk-toggleable__label-arrow:before {content: \"▾\";}#sk-container-id-11 div.sk-estimator input.sk-toggleable__control:checked~label.sk-toggleable__label {background-color: #d4ebff;}#sk-container-id-11 div.sk-label input.sk-toggleable__control:checked~label.sk-toggleable__label {background-color: #d4ebff;}#sk-container-id-11 input.sk-hidden--visually {border: 0;clip: rect(1px 1px 1px 1px);clip: rect(1px, 1px, 1px, 1px);height: 1px;margin: -1px;overflow: hidden;padding: 0;position: absolute;width: 1px;}#sk-container-id-11 div.sk-estimator {font-family: monospace;background-color: #f0f8ff;border: 1px dotted black;border-radius: 0.25em;box-sizing: border-box;margin-bottom: 0.5em;}#sk-container-id-11 div.sk-estimator:hover {background-color: #d4ebff;}#sk-container-id-11 div.sk-parallel-item::after {content: \"\";width: 100%;border-bottom: 1px solid gray;flex-grow: 1;}#sk-container-id-11 div.sk-label:hover label.sk-toggleable__label {background-color: #d4ebff;}#sk-container-id-11 div.sk-serial::before {content: \"\";position: absolute;border-left: 1px solid gray;box-sizing: border-box;top: 0;bottom: 0;left: 50%;z-index: 0;}#sk-container-id-11 div.sk-serial {display: flex;flex-direction: column;align-items: center;background-color: white;padding-right: 0.2em;padding-left: 0.2em;position: relative;}#sk-container-id-11 div.sk-item {position: relative;z-index: 1;}#sk-container-id-11 div.sk-parallel {display: flex;align-items: stretch;justify-content: center;background-color: white;position: relative;}#sk-container-id-11 div.sk-item::before, #sk-container-id-11 div.sk-parallel-item::before {content: \"\";position: absolute;border-left: 1px solid gray;box-sizing: border-box;top: 0;bottom: 0;left: 50%;z-index: -1;}#sk-container-id-11 div.sk-parallel-item {display: flex;flex-direction: column;z-index: 1;position: relative;background-color: white;}#sk-container-id-11 div.sk-parallel-item:first-child::after {align-self: flex-end;width: 50%;}#sk-container-id-11 div.sk-parallel-item:last-child::after {align-self: flex-start;width: 50%;}#sk-container-id-11 div.sk-parallel-item:only-child::after {width: 0;}#sk-container-id-11 div.sk-dashed-wrapped {border: 1px dashed gray;margin: 0 0.4em 0.5em 0.4em;box-sizing: border-box;padding-bottom: 0.4em;background-color: white;}#sk-container-id-11 div.sk-label label {font-family: monospace;font-weight: bold;display: inline-block;line-height: 1.2em;}#sk-container-id-11 div.sk-label-container {text-align: center;}#sk-container-id-11 div.sk-container {/* jupyter's `normalize.less` sets `[hidden] { display: none; }` but bootstrap.min.css set `[hidden] { display: none !important; }` so we also need the `!important` here to be able to override the default hidden behavior on the sphinx rendered scikit-learn.org. See: https://github.com/scikit-learn/scikit-learn/issues/21755 */display: inline-block !important;position: relative;}#sk-container-id-11 div.sk-text-repr-fallback {display: none;}</style><div id=\"sk-container-id-11\" class=\"sk-top-container\"><div class=\"sk-text-repr-fallback\"><pre>LogisticRegression(class_weight=&#x27;balanced&#x27;, solver=&#x27;newton-cg&#x27;, tol=0.001)</pre><b>In a Jupyter environment, please rerun this cell to show the HTML representation or trust the notebook. <br />On GitHub, the HTML representation is unable to render, please try loading this page with nbviewer.org.</b></div><div class=\"sk-container\" hidden><div class=\"sk-item\"><div class=\"sk-estimator sk-toggleable\"><input class=\"sk-toggleable__control sk-hidden--visually\" id=\"sk-estimator-id-21\" type=\"checkbox\" checked><label for=\"sk-estimator-id-21\" class=\"sk-toggleable__label sk-toggleable__label-arrow\">LogisticRegression</label><div class=\"sk-toggleable__content\"><pre>LogisticRegression(class_weight=&#x27;balanced&#x27;, solver=&#x27;newton-cg&#x27;, tol=0.001)</pre></div></div></div></div></div>"
     },
     "execution_count": 301,
     "metadata": {},
     "output_type": "execute_result"
    }
   ],
   "source": [
    "from sklearn.linear_model import LogisticRegression\n",
    "\n",
    "clf1 = LogisticRegression(C=1.0, class_weight='balanced', dual=False, fit_intercept=True, intercept_scaling=1, l1_ratio=None,\n",
    "                           max_iter=100, multi_class='auto', n_jobs=None, penalty='l2', random_state=None, solver='newton-cg', tol=0.001,\n",
    "                           verbose=0, warm_start=False)\n",
    "clf1.fit(X_train,y_train)"
   ]
  },
  {
   "cell_type": "markdown",
   "metadata": {},
   "source": [
    "### Step 3: Find Intercept, coefficients, and score"
   ]
  },
  {
   "cell_type": "code",
   "execution_count": 302,
   "metadata": {},
   "outputs": [
    {
     "name": "stdout",
     "output_type": "stream",
     "text": [
      "Intercept: [-5.69597472]\n",
      "Coefficients: [[ 0.77186067  1.40347246  0.04678591 -1.88307729  0.83474047 -3.30241311\n",
      "  -0.11296004  0.11296004  0.19215136 -0.19215136  0.13037301 -0.13037301\n",
      "   0.01135151 -0.01135151  0.22213122 -0.22213122  0.11096054 -0.11096054\n",
      "   0.10856279 -0.10856279  0.08510105 -0.08510105 -0.02234262  0.02234262]]\n",
      "Accuracy: 0.9633333333333334\n"
     ]
    }
   ],
   "source": [
    "print(f'Intercept: {clf1.intercept_}')\n",
    "print(f'Coefficients: {clf1.coef_}')\n",
    "print(f'Accuracy: {clf1.score(X_test,y_test)}')"
   ]
  },
  {
   "cell_type": "markdown",
   "metadata": {},
   "source": [
    "### Step 4: Use the special <u>predict_proba</u> method to computes the raw probability values"
   ]
  },
  {
   "cell_type": "code",
   "execution_count": 303,
   "metadata": {},
   "outputs": [],
   "source": [
    "prob_threshold = 0.5"
   ]
  },
  {
   "cell_type": "code",
   "execution_count": 304,
   "metadata": {},
   "outputs": [
    {
     "data": {
      "text/plain": "   Prob of NO  Prob of YES  Decision\n0    0.999827     0.000173         0\n1    0.999948     0.000052         0\n2    0.997500     0.002500         0\n3    0.999998     0.000002         0\n4    0.994500     0.005500         0\n5    0.819987     0.180013         0\n6    0.950715     0.049285         0\n7    0.004091     0.995909         1\n8    0.999917     0.000083         0\n9    0.999603     0.000397         0",
      "text/html": "<div>\n<style scoped>\n    .dataframe tbody tr th:only-of-type {\n        vertical-align: middle;\n    }\n\n    .dataframe tbody tr th {\n        vertical-align: top;\n    }\n\n    .dataframe thead th {\n        text-align: right;\n    }\n</style>\n<table border=\"1\" class=\"dataframe\">\n  <thead>\n    <tr style=\"text-align: right;\">\n      <th></th>\n      <th>Prob of NO</th>\n      <th>Prob of YES</th>\n      <th>Decision</th>\n    </tr>\n  </thead>\n  <tbody>\n    <tr>\n      <th>0</th>\n      <td>0.999827</td>\n      <td>0.000173</td>\n      <td>0</td>\n    </tr>\n    <tr>\n      <th>1</th>\n      <td>0.999948</td>\n      <td>0.000052</td>\n      <td>0</td>\n    </tr>\n    <tr>\n      <th>2</th>\n      <td>0.997500</td>\n      <td>0.002500</td>\n      <td>0</td>\n    </tr>\n    <tr>\n      <th>3</th>\n      <td>0.999998</td>\n      <td>0.000002</td>\n      <td>0</td>\n    </tr>\n    <tr>\n      <th>4</th>\n      <td>0.994500</td>\n      <td>0.005500</td>\n      <td>0</td>\n    </tr>\n    <tr>\n      <th>5</th>\n      <td>0.819987</td>\n      <td>0.180013</td>\n      <td>0</td>\n    </tr>\n    <tr>\n      <th>6</th>\n      <td>0.950715</td>\n      <td>0.049285</td>\n      <td>0</td>\n    </tr>\n    <tr>\n      <th>7</th>\n      <td>0.004091</td>\n      <td>0.995909</td>\n      <td>1</td>\n    </tr>\n    <tr>\n      <th>8</th>\n      <td>0.999917</td>\n      <td>0.000083</td>\n      <td>0</td>\n    </tr>\n    <tr>\n      <th>9</th>\n      <td>0.999603</td>\n      <td>0.000397</td>\n      <td>0</td>\n    </tr>\n  </tbody>\n</table>\n</div>"
     },
     "execution_count": 304,
     "metadata": {},
     "output_type": "execute_result"
    }
   ],
   "source": [
    "prob_df=pd.DataFrame(clf1.predict_proba(X_test[:10]),columns=['Prob of NO','Prob of YES'])\n",
    "prob_df['Decision']=(prob_df['Prob of YES']>prob_threshold).apply(int)\n",
    "prob_df"
   ]
  },
  {
   "cell_type": "code",
   "execution_count": 305,
   "metadata": {},
   "outputs": [
    {
     "data": {
      "text/plain": "array([0, 0, 0, 0, 0, 0, 0, 1, 0, 0], dtype=int64)"
     },
     "execution_count": 305,
     "metadata": {},
     "output_type": "execute_result"
    }
   ],
   "source": [
    "y_test[:10]"
   ]
  },
  {
   "cell_type": "markdown",
   "metadata": {},
   "source": [
    "## Model Evaluation"
   ]
  },
  {
   "cell_type": "markdown",
   "metadata": {},
   "source": [
    "### Step 1: Classification report and confusion matrix"
   ]
  },
  {
   "cell_type": "code",
   "execution_count": 306,
   "metadata": {},
   "outputs": [
    {
     "name": "stdout",
     "output_type": "stream",
     "text": [
      "              precision    recall  f1-score   support\n",
      "\n",
      "           0       0.99      0.97      0.98       563\n",
      "           1       0.64      0.92      0.76        37\n",
      "\n",
      "    accuracy                           0.96       600\n",
      "   macro avg       0.82      0.94      0.87       600\n",
      "weighted avg       0.97      0.96      0.97       600\n",
      "\n"
     ]
    }
   ],
   "source": [
    "from sklearn.metrics import classification_report, confusion_matrix\n",
    "\n",
    "y_pred = clf1.predict(X_test)\n",
    "\n",
    "print(classification_report(y_test,y_pred))"
   ]
  },
  {
   "cell_type": "code",
   "execution_count": 307,
   "metadata": {},
   "outputs": [
    {
     "name": "stdout",
     "output_type": "stream",
     "text": [
      "[[544  19]\n",
      " [  3  34]]\n"
     ]
    }
   ],
   "source": [
    "print(confusion_matrix(y_test,y_pred))"
   ]
  },
  {
   "cell_type": "markdown",
   "metadata": {},
   "source": [
    "### Step 2: Plot the ROC Curve and report AUC"
   ]
  },
  {
   "cell_type": "code",
   "execution_count": 308,
   "metadata": {},
   "outputs": [
    {
     "data": {
      "text/plain": "<Figure size 432x288 with 1 Axes>",
      "image/png": "[encoded data removed]"
     },
     "metadata": {
      "needs_background": "light"
     },
     "output_type": "display_data"
    }
   ],
   "source": [
    "from sklearn.metrics import roc_curve,auc\n",
    "import matplotlib.pyplot as plt\n",
    "threshold = 0.5\n",
    "y_score = (clf1.predict_proba(X_test)[:,1] > threshold).astype('float')\n",
    "fpr,tpr, thresholds = roc_curve(y_test, y_score)\n",
    "\n",
    "plt.plot(fpr, tpr, color='blue', lw=2, label = 'AUC = %0.2f' % auc(fpr, tpr))\n",
    "plt.plot([0, 1], [0, 1], color='red', lw=2, linestyle='--')\n",
    "plt.xlim([0, 1])\n",
    "plt.ylim([0, 1])\n",
    "plt.xlabel('False Positive Rate')\n",
    "plt.ylabel('True Positive Rate')\n",
    "plt.legend(loc=\"best\")\n",
    "plt.show()"
   ]
  },
  {
   "cell_type": "markdown",
   "metadata": {},
   "source": [
    "## Q. Is your problem a recall or precision problem? If so are you satisfied with your model performance?\n",
    "\n",
    "Recall because we would rather get a false positive in identifying if a person has the disease rather than it going hidden from the person and it could develop into something worse"
   ]
  },
  {
   "cell_type": "markdown",
   "metadata": {},
   "source": [
    "### Step 3: How does the confusion matrix change when we modulate the probability threshold?"
   ]
  },
  {
   "cell_type": "code",
   "execution_count": 309,
   "metadata": {},
   "outputs": [
    {
     "name": "stdout",
     "output_type": "stream",
     "text": [
      "Confusion matrix for probability threshold 0.3\n",
      "----------------------------------------------------------------------------------------------------\n",
      "     Predict-NO  Predict-YES\n",
      "NO          530           33\n",
      "YES           3           34\n",
      "\n",
      "Confusion matrix for probability threshold 0.4\n",
      "----------------------------------------------------------------------------------------------------\n",
      "     Predict-NO  Predict-YES\n",
      "NO          539           24\n",
      "YES           3           34\n",
      "\n",
      "Confusion matrix for probability threshold 0.5\n",
      "----------------------------------------------------------------------------------------------------\n",
      "     Predict-NO  Predict-YES\n",
      "NO          544           19\n",
      "YES           3           34\n",
      "\n",
      "Confusion matrix for probability threshold 0.6\n",
      "----------------------------------------------------------------------------------------------------\n",
      "     Predict-NO  Predict-YES\n",
      "NO          548           15\n",
      "YES           3           34\n",
      "\n",
      "Confusion matrix for probability threshold 0.7\n",
      "----------------------------------------------------------------------------------------------------\n",
      "     Predict-NO  Predict-YES\n",
      "NO          553           10\n",
      "YES           4           33\n",
      "\n",
      "Confusion matrix for probability threshold 0.8\n",
      "----------------------------------------------------------------------------------------------------\n",
      "     Predict-NO  Predict-YES\n",
      "NO          558            5\n",
      "YES           6           31\n",
      "\n",
      "Confusion matrix for probability threshold 0.9\n",
      "----------------------------------------------------------------------------------------------------\n",
      "     Predict-NO  Predict-YES\n",
      "NO          558            5\n",
      "YES           6           31\n",
      "\n"
     ]
    }
   ],
   "source": [
    "from sklearn.metrics import classification_report, confusion_matrix\n",
    "for prob_threshold in [0.3,0.4,0.5,0.6,0.7,0.8,0.9]:\n",
    "    y_pred1=clf1.predict_proba(X_test)\n",
    "    y_pred=y_pred1[:,1]>prob_threshold\n",
    "    df=pd.DataFrame(confusion_matrix(y_test, y_pred),columns=['Predict-NO','Predict-YES'],index=['NO','YES'])\n",
    "    print(\"Confusion matrix for probability threshold {}\".format(prob_threshold))\n",
    "    print(\"-\"*100)\n",
    "    print(df)\n",
    "    print()"
   ]
  },
  {
   "cell_type": "markdown",
   "metadata": {},
   "source": [
    "## Q. What would be the appropriate threshold based on the above observation?\n",
    "\n",
    "The best for a recall problem would be a threshold of 0.3 as it has the lowest false negative rate therefore, we would minimally miss the undiagnosed people."
   ]
  },
  {
   "cell_type": "markdown",
   "metadata": {},
   "source": [
    "### Step 4: Perform Feature Selection using SelectFromModel"
   ]
  },
  {
   "cell_type": "code",
   "execution_count": 310,
   "metadata": {},
   "outputs": [
    {
     "name": "stdout",
     "output_type": "stream",
     "text": [
      "key features:  ['age', 'TSH', 'TT4', 'T4U', 'FTI']\n"
     ]
    }
   ],
   "source": [
    "from sklearn.feature_selection import SelectFromModel\n",
    "\n",
    "selector = SelectFromModel(estimator=clf1)\n",
    "selector.fit(X_train,y_train)\n",
    "selector.get_support()\n",
    "\n",
    "selection = df_dummies.drop('response', axis=1)\n",
    "selection = list(selection.columns[selector.get_support()])\n",
    "print('key features: ',selection)"
   ]
  },
  {
   "cell_type": "markdown",
   "metadata": {},
   "source": [
    "## Q. What are the key features according to the above result?\n",
    "\n",
    "The key features are: 'age', 'TSH', 'TT4', 'T4U', 'FTI'"
   ]
  },
  {
   "cell_type": "markdown",
   "metadata": {},
   "source": [
    "# ---------------------------------------------------------------------------------------------------------"
   ]
  },
  {
   "cell_type": "markdown",
   "metadata": {},
   "source": [
    "# ----------------------------------------------------------------------------------------------------------"
   ]
  },
  {
   "cell_type": "markdown",
   "metadata": {},
   "source": [
    "# <u>PART-B</u>: Using statsmodels library"
   ]
  },
  {
   "cell_type": "code",
   "execution_count": 311,
   "metadata": {},
   "outputs": [],
   "source": [
    "import statsmodels.formula.api as smf\n",
    "import statsmodels.api as sm"
   ]
  },
  {
   "cell_type": "code",
   "execution_count": 312,
   "metadata": {},
   "outputs": [],
   "source": [
    "# use stats model on the same dataset\n",
    "X_train_statmodels = df_dummies.drop(columns=['response'])\n",
    "y_train_statmodels = df_dummies['response']"
   ]
  },
  {
   "cell_type": "code",
   "execution_count": 313,
   "metadata": {},
   "outputs": [],
   "source": [
    "formula = \"response ~ age + TSH + T3 + TT4 + T4U + FTI + sex_F + sex_M + on_thyroxine_f + on_thyroxine_t + antithyroid_medication_f + antithyroid_medication_t + thyroid_surgery_f + thyroid_surgery_t + pregnant_f + pregnant_t + sick_f + sick_t + tumor_f + tumor_t + lithium_f + lithium_t + goitre_f + goitre_t\""
   ]
  },
  {
   "cell_type": "code",
   "execution_count": 314,
   "metadata": {},
   "outputs": [
    {
     "name": "stdout",
     "output_type": "stream",
     "text": [
      "                 Generalized Linear Model Regression Results                  \n",
      "==============================================================================\n",
      "Dep. Variable:               response   No. Observations:                 2000\n",
      "Model:                            GLM   Df Residuals:                     1984\n",
      "Model Family:                Binomial   Df Model:                           15\n",
      "Link Function:                  logit   Scale:                          1.0000\n",
      "Method:                          IRLS   Log-Likelihood:                -123.59\n",
      "Date:                Thu, 16 Feb 2023   Deviance:                       247.17\n",
      "Time:                        21:18:42   Pearson chi2:                 9.10e+03\n",
      "No. Iterations:                    22                                         \n",
      "Covariance Type:            nonrobust                                         \n",
      "============================================================================================\n",
      "                               coef    std err          z      P>|z|      [0.025      0.975]\n",
      "--------------------------------------------------------------------------------------------\n",
      "Intercept                   -3.1161   4981.803     -0.001      1.000   -9767.271    9761.039\n",
      "age                          0.0219      0.011      2.062      0.039       0.001       0.043\n",
      "TSH                          0.0214      0.008      2.823      0.005       0.007       0.036\n",
      "T3                          -0.0233      0.320     -0.073      0.942      -0.651       0.604\n",
      "TT4                          0.0367      0.027      1.376      0.169      -0.016       0.089\n",
      "T4U                         -1.5693      1.656     -0.947      0.343      -4.816       1.677\n",
      "FTI                         -0.1420      0.030     -4.709      0.000      -0.201      -0.083\n",
      "sex_F                       -1.4005   2490.902     -0.001      1.000   -4883.478    4880.677\n",
      "sex_M                       -1.7156   2490.902     -0.001      0.999   -4883.793    4880.362\n",
      "on_thyroxine_f              -1.2357   2490.902     -0.000      1.000   -4883.313    4880.842\n",
      "on_thyroxine_t              -1.8804   2490.902     -0.001      0.999   -4883.958    4880.197\n",
      "antithyroid_medication_f    -0.3206   2490.902     -0.000      1.000   -4882.398    4881.757\n",
      "antithyroid_medication_t    -2.7954   2490.902     -0.001      0.999   -4884.873    4879.282\n",
      "thyroid_surgery_f           -2.2489   2490.902     -0.001      0.999   -4884.327    4879.829\n",
      "thyroid_surgery_t           -0.8672   2490.902     -0.000      1.000   -4882.945    4881.210\n",
      "pregnant_f                  -0.2489   2490.902  -9.99e-05      1.000   -4882.327    4881.829\n",
      "pregnant_t                  -2.8671   2490.902     -0.001      0.999   -4884.946    4879.212\n",
      "sick_f                      -1.1899   2490.902     -0.000      1.000   -4883.268    4880.888\n",
      "sick_t                      -1.9262   2490.902     -0.001      0.999   -4884.004    4880.152\n",
      "tumor_f                      8.1294   6275.938      0.001      0.999   -1.23e+04    1.23e+04\n",
      "tumor_t                    -11.2454   7357.670     -0.002      0.999   -1.44e+04    1.44e+04\n",
      "lithium_f                    8.7704   2.42e+04      0.000      1.000   -4.75e+04    4.75e+04\n",
      "lithium_t                  -11.8864   2.91e+04     -0.000      1.000    -5.7e+04     5.7e+04\n",
      "goitre_f                    -1.9841   2490.902     -0.001      0.999   -4884.062    4880.094\n",
      "goitre_t                    -1.1320   2490.902     -0.000      1.000   -4883.210    4880.946\n",
      "============================================================================================\n"
     ]
    }
   ],
   "source": [
    "statmodel = smf.glm(formula,df_dummies,family=sm.families.Binomial())\n",
    "print(statmodel.fit().summary())"
   ]
  },
  {
   "cell_type": "markdown",
   "metadata": {},
   "source": [
    "## Q. What is the interpretation of the coefficient value for age and FTI?\n",
    "\n",
    "Age: 0.0219\n",
    "FTI: -0.1420\n",
    "\n",
    "one unit of change for age will increase the log odds of getting hyperthyroid by 0.0219 or by about 2% because it is positively correlated.\n",
    "one unit of change for FTI will decrease the log odds of getting hyperthyroid by 0.1420 or by about 14% because it is negatively correlated."
   ]
  },
  {
   "cell_type": "markdown",
   "metadata": {},
   "source": [
    "## Q. According to stats model which are the statistically significant features?\n",
    "\n",
    "a statistically significant feature would have a p value < 0.05 therefore, these are the features with significance:\n",
    "statistically significant features: age:0.039, TSH:0.005, FTI:0.000"
   ]
  },
  {
   "cell_type": "markdown",
   "metadata": {},
   "source": [
    "# ----------------------------------------------------------------------------------------------------------"
   ]
  },
  {
   "cell_type": "markdown",
   "metadata": {},
   "source": [
    "## Q. Based on PART-A and PART-B provide your conclusion and recommendation of the dataset and the model build.\n",
    "\n",
    "To improve our model I would recommend only using the statistically significant features for our dataset in order to efficiently increase the speed of our model and decrease the chance of over fitting. We would also use a probability threshold of 0.3 to improve the recall of our model so the model doesn't undiagnose any patients. According to the SelectFromModel the key features are: age, FTI, TSH, TT4, and T4U. According to the statsmodel the significant features are: age, TSH, and FTI. We could also down sample the data so that the class imbalance of hyperthyroid and no-hyperthyroid class in the target feature(response) would be more balanced."
   ]
  },
  {
   "cell_type": "markdown",
   "metadata": {},
   "source": [
    "# --------------------------------------------------------------------------------------------------------"
   ]
  },
  {
   "cell_type": "markdown",
   "metadata": {},
   "source": [
    "# <u>PART-C</u>: Based on the learning from Part-A and B build a new logistic regression model pipeline and evaluate the model."
   ]
  },
  {
   "cell_type": "code",
   "execution_count": 315,
   "metadata": {},
   "outputs": [],
   "source": [
    "#Creating new logistic regression pipeline\n",
    "from sklearn.pipeline import make_pipeline\n",
    "\n",
    "pipeline = make_pipeline(StandardScaler(), LogisticRegression())"
   ]
  },
  {
   "cell_type": "code",
   "execution_count": 316,
   "metadata": {},
   "outputs": [
    {
     "name": "stderr",
     "output_type": "stream",
     "text": [
      "C:\\Users\\xxryk\\anaconda3\\lib\\site-packages\\imblearn\\over_sampling\\_smote\\base.py:336: FutureWarning: The parameter `n_jobs` has been deprecated in 0.10 and will be removed in 0.12. You can pass an nearest neighbors estimator where `n_jobs` is already set instead.\n",
      "  warnings.warn(\n"
     ]
    }
   ],
   "source": [
    "#To balance the dataset\n",
    "from imblearn.over_sampling import SMOTE\n",
    "\n",
    "smote = SMOTE(sampling_strategy='minority', random_state=42, n_jobs=-1)\n",
    "\n",
    "X_resample,y_resample = smote.fit_resample(df_dummies.drop(columns=['response']),df_dummies['response'])\n",
    "df_resample = pd.concat([pd.DataFrame(y_resample), pd.DataFrame(X_resample)], axis=1)\n",
    "df_resample.columns = df_dummies.columns"
   ]
  },
  {
   "cell_type": "code",
   "execution_count": 317,
   "metadata": {},
   "outputs": [
    {
     "data": {
      "text/plain": "0    1878\n1    1878\nName: response, dtype: int64"
     },
     "execution_count": 317,
     "metadata": {},
     "output_type": "execute_result"
    },
    {
     "data": {
      "text/plain": "<Figure size 432x288 with 1 Axes>",
      "image/png": "[encoded data removed]"
     },
     "metadata": {
      "needs_background": "light"
     },
     "output_type": "display_data"
    }
   ],
   "source": [
    "#Now it has an even amount of responses\n",
    "sns.countplot(data=df_resample, x='response').set(title='Classes Split for Dataset', xlabel='Classes',ylabel='Counts')\n",
    "df_resample.response.value_counts()"
   ]
  },
  {
   "cell_type": "code",
   "execution_count": 318,
   "outputs": [],
   "source": [
    "#Only selecting key features\n",
    "X = df_resample[['age', 'FTI', 'TSH', 'TT4', 'T4U']]\n",
    "y = df_resample['response']"
   ],
   "metadata": {
    "collapsed": false
   }
  },
  {
   "cell_type": "code",
   "execution_count": 319,
   "outputs": [],
   "source": [
    "X_train_resample, X_test_resample, y_train_resample, y_test_resample = train_test_split(X, y, test_size=0.30,stratify=y,random_state=42)"
   ],
   "metadata": {
    "collapsed": false
   }
  },
  {
   "cell_type": "code",
   "execution_count": 320,
   "outputs": [
    {
     "data": {
      "text/plain": "Pipeline(steps=[('standardscaler', StandardScaler()),\n                ('logisticregression', LogisticRegression())])",
      "text/html": "<style>#sk-container-id-12 {color: black;background-color: white;}#sk-container-id-12 pre{padding: 0;}#sk-container-id-12 div.sk-toggleable {background-color: white;}#sk-container-id-12 label.sk-toggleable__label {cursor: pointer;display: block;width: 100%;margin-bottom: 0;padding: 0.3em;box-sizing: border-box;text-align: center;}#sk-container-id-12 label.sk-toggleable__label-arrow:before {content: \"▸\";float: left;margin-right: 0.25em;color: #696969;}#sk-container-id-12 label.sk-toggleable__label-arrow:hover:before {color: black;}#sk-container-id-12 div.sk-estimator:hover label.sk-toggleable__label-arrow:before {color: black;}#sk-container-id-12 div.sk-toggleable__content {max-height: 0;max-width: 0;overflow: hidden;text-align: left;background-color: #f0f8ff;}#sk-container-id-12 div.sk-toggleable__content pre {margin: 0.2em;color: black;border-radius: 0.25em;background-color: #f0f8ff;}#sk-container-id-12 input.sk-toggleable__control:checked~div.sk-toggleable__content {max-height: 200px;max-width: 100%;overflow: auto;}#sk-container-id-12 input.sk-toggleable__control:checked~label.sk-toggleable__label-arrow:before {content: \"▾\";}#sk-container-id-12 div.sk-estimator input.sk-toggleable__control:checked~label.sk-toggleable__label {background-color: #d4ebff;}#sk-container-id-12 div.sk-label input.sk-toggleable__control:checked~label.sk-toggleable__label {background-color: #d4ebff;}#sk-container-id-12 input.sk-hidden--visually {border: 0;clip: rect(1px 1px 1px 1px);clip: rect(1px, 1px, 1px, 1px);height: 1px;margin: -1px;overflow: hidden;padding: 0;position: absolute;width: 1px;}#sk-container-id-12 div.sk-estimator {font-family: monospace;background-color: #f0f8ff;border: 1px dotted black;border-radius: 0.25em;box-sizing: border-box;margin-bottom: 0.5em;}#sk-container-id-12 div.sk-estimator:hover {background-color: #d4ebff;}#sk-container-id-12 div.sk-parallel-item::after {content: \"\";width: 100%;border-bottom: 1px solid gray;flex-grow: 1;}#sk-container-id-12 div.sk-label:hover label.sk-toggleable__label {background-color: #d4ebff;}#sk-container-id-12 div.sk-serial::before {content: \"\";position: absolute;border-left: 1px solid gray;box-sizing: border-box;top: 0;bottom: 0;left: 50%;z-index: 0;}#sk-container-id-12 div.sk-serial {display: flex;flex-direction: column;align-items: center;background-color: white;padding-right: 0.2em;padding-left: 0.2em;position: relative;}#sk-container-id-12 div.sk-item {position: relative;z-index: 1;}#sk-container-id-12 div.sk-parallel {display: flex;align-items: stretch;justify-content: center;background-color: white;position: relative;}#sk-container-id-12 div.sk-item::before, #sk-container-id-12 div.sk-parallel-item::before {content: \"\";position: absolute;border-left: 1px solid gray;box-sizing: border-box;top: 0;bottom: 0;left: 50%;z-index: -1;}#sk-container-id-12 div.sk-parallel-item {display: flex;flex-direction: column;z-index: 1;position: relative;background-color: white;}#sk-container-id-12 div.sk-parallel-item:first-child::after {align-self: flex-end;width: 50%;}#sk-container-id-12 div.sk-parallel-item:last-child::after {align-self: flex-start;width: 50%;}#sk-container-id-12 div.sk-parallel-item:only-child::after {width: 0;}#sk-container-id-12 div.sk-dashed-wrapped {border: 1px dashed gray;margin: 0 0.4em 0.5em 0.4em;box-sizing: border-box;padding-bottom: 0.4em;background-color: white;}#sk-container-id-12 div.sk-label label {font-family: monospace;font-weight: bold;display: inline-block;line-height: 1.2em;}#sk-container-id-12 div.sk-label-container {text-align: center;}#sk-container-id-12 div.sk-container {/* jupyter's `normalize.less` sets `[hidden] { display: none; }` but bootstrap.min.css set `[hidden] { display: none !important; }` so we also need the `!important` here to be able to override the default hidden behavior on the sphinx rendered scikit-learn.org. See: https://github.com/scikit-learn/scikit-learn/issues/21755 */display: inline-block !important;position: relative;}#sk-container-id-12 div.sk-text-repr-fallback {display: none;}</style><div id=\"sk-container-id-12\" class=\"sk-top-container\"><div class=\"sk-text-repr-fallback\"><pre>Pipeline(steps=[(&#x27;standardscaler&#x27;, StandardScaler()),\n                (&#x27;logisticregression&#x27;, LogisticRegression())])</pre><b>In a Jupyter environment, please rerun this cell to show the HTML representation or trust the notebook. <br />On GitHub, the HTML representation is unable to render, please try loading this page with nbviewer.org.</b></div><div class=\"sk-container\" hidden><div class=\"sk-item sk-dashed-wrapped\"><div class=\"sk-label-container\"><div class=\"sk-label sk-toggleable\"><input class=\"sk-toggleable__control sk-hidden--visually\" id=\"sk-estimator-id-22\" type=\"checkbox\" ><label for=\"sk-estimator-id-22\" class=\"sk-toggleable__label sk-toggleable__label-arrow\">Pipeline</label><div class=\"sk-toggleable__content\"><pre>Pipeline(steps=[(&#x27;standardscaler&#x27;, StandardScaler()),\n                (&#x27;logisticregression&#x27;, LogisticRegression())])</pre></div></div></div><div class=\"sk-serial\"><div class=\"sk-item\"><div class=\"sk-estimator sk-toggleable\"><input class=\"sk-toggleable__control sk-hidden--visually\" id=\"sk-estimator-id-23\" type=\"checkbox\" ><label for=\"sk-estimator-id-23\" class=\"sk-toggleable__label sk-toggleable__label-arrow\">StandardScaler</label><div class=\"sk-toggleable__content\"><pre>StandardScaler()</pre></div></div></div><div class=\"sk-item\"><div class=\"sk-estimator sk-toggleable\"><input class=\"sk-toggleable__control sk-hidden--visually\" id=\"sk-estimator-id-24\" type=\"checkbox\" ><label for=\"sk-estimator-id-24\" class=\"sk-toggleable__label sk-toggleable__label-arrow\">LogisticRegression</label><div class=\"sk-toggleable__content\"><pre>LogisticRegression()</pre></div></div></div></div></div></div></div>"
     },
     "execution_count": 320,
     "metadata": {},
     "output_type": "execute_result"
    }
   ],
   "source": [
    "pipeline.fit(X_train_resample,y_train_resample)\n",
    "# y_pred_resample = pipeline.predict(X_test_resample)"
   ],
   "metadata": {
    "collapsed": false
   }
  },
  {
   "cell_type": "code",
   "execution_count": 321,
   "outputs": [
    {
     "name": "stdout",
     "output_type": "stream",
     "text": [
      "     Predict-NO  Predict-YES\n",
      "NO          525           39\n",
      "YES           6          557\n"
     ]
    }
   ],
   "source": [
    "#Optimizing for recall\n",
    "threshold = 0.3\n",
    "y_pred_resample = (pipeline.predict_proba(X_test_resample)[:, 1] > threshold).astype('float')\n",
    "confusion_matrix(y_test_resample, y_pred_resample)\n",
    "df=pd.DataFrame(confusion_matrix(y_test_resample, y_pred_resample),columns=['Predict-NO','Predict-YES'],index=['NO','YES'])\n",
    "print(df)"
   ],
   "metadata": {
    "collapsed": false
   }
  },
  {
   "cell_type": "code",
   "execution_count": 322,
   "outputs": [
    {
     "data": {
      "text/plain": "<Figure size 432x288 with 2 Axes>",
      "image/png": "[encoded data removed]"
     },
     "metadata": {
      "needs_background": "light"
     },
     "output_type": "display_data"
    }
   ],
   "source": [
    "from sklearn.metrics import confusion_matrix\n",
    "import seaborn as sn\n",
    "cm = confusion_matrix(y_test_resample, y_pred_resample, labels=pipeline.classes_)\n",
    "sn.heatmap(cm,cmap=\"Blues\", annot=True,fmt='g')\n",
    "plt.xlabel('Pred')\n",
    "plt.ylabel('True')\n",
    "plt.show()"
   ],
   "metadata": {
    "collapsed": false
   }
  },
  {
   "cell_type": "code",
   "execution_count": 323,
   "outputs": [
    {
     "name": "stdout",
     "output_type": "stream",
     "text": [
      "              precision    recall  f1-score   support\n",
      "\n",
      "           0       0.99      0.93      0.96       564\n",
      "           1       0.93      0.99      0.96       563\n",
      "\n",
      "    accuracy                           0.96      1127\n",
      "   macro avg       0.96      0.96      0.96      1127\n",
      "weighted avg       0.96      0.96      0.96      1127\n",
      "\n"
     ]
    }
   ],
   "source": [
    "print(classification_report(y_test_resample,y_pred_resample))"
   ],
   "metadata": {
    "collapsed": false
   }
  },
  {
   "cell_type": "code",
   "execution_count": 324,
   "outputs": [
    {
     "data": {
      "text/plain": "<Figure size 432x288 with 1 Axes>",
      "image/png": "[encoded data removed]"
     },
     "metadata": {
      "needs_background": "light"
     },
     "output_type": "display_data"
    }
   ],
   "source": [
    "from sklearn.metrics import roc_curve,auc\n",
    "import matplotlib.pyplot as plt\n",
    "threshold = 0.3\n",
    "y_score = (pipeline.predict_proba(X_test_resample)[:, 1] > threshold).astype('float')\n",
    "fpr,tpr, thresholds = roc_curve(y_test_resample, y_score)\n",
    "\n",
    "plt.plot(fpr, tpr, color='blue', lw=2, label = 'AUC = %0.2f' % auc(fpr, tpr))\n",
    "plt.plot([0, 1], [0, 1], color='red', lw=2, linestyle='--')\n",
    "plt.xlim([0, 1])\n",
    "plt.ylim([0, 1])\n",
    "plt.xlabel('False Positive Rate')\n",
    "plt.ylabel('True Positive Rate')\n",
    "plt.legend(loc=\"best\")\n",
    "plt.show()"
   ],
   "metadata": {
    "collapsed": false
   }
  },
  {
   "cell_type": "markdown",
   "source": [
    "After using SMOTE to balance our data and optimizing our threshold for recall, we managed to increase our AUC from 0.94 to 0.96"
   ],
   "metadata": {
    "collapsed": false
   }
  },
  {
   "cell_type": "code",
   "execution_count": null,
   "outputs": [],
   "source": [],
   "metadata": {
    "collapsed": false
   }
  }
 ],
 "metadata": {
  "kernelspec": {
   "display_name": "Python 3",
   "language": "python",
   "name": "python3"
  },
  "language_info": {
   "codemirror_mode": {
    "name": "ipython",
    "version": 3
   },
   "file_extension": ".py",
   "mimetype": "text/x-python",
   "name": "python",
   "nbconvert_exporter": "python",
   "pygments_lexer": "ipython3",
   "version": "3.8.8"
  }
 },
 "nbformat": 4,
 "nbformat_minor": 4
}
