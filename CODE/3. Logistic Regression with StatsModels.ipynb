{
 "cells": [
  {
   "cell_type": "code",
   "execution_count": 1,
   "metadata": {},
   "outputs": [],
   "source": [
    "#Load Libraries\n",
    "import numpy as np\n",
    "import pandas as pd\n",
    "import matplotlib.pyplot as plt\n",
    "%matplotlib inline\n",
    "import seaborn as sns"
   ]
  },
  {
   "cell_type": "code",
   "execution_count": 2,
   "metadata": {},
   "outputs": [],
   "source": [
    "import numpy as np\n",
    "import statsmodels.api as sm\n",
    "import pandas as pd"
   ]
  },
  {
   "cell_type": "code",
   "execution_count": 3,
   "metadata": {},
   "outputs": [
    {
     "data": {
      "text/html": [
       "<div>\n",
       "<style scoped>\n",
       "    .dataframe tbody tr th:only-of-type {\n",
       "        vertical-align: middle;\n",
       "    }\n",
       "\n",
       "    .dataframe tbody tr th {\n",
       "        vertical-align: top;\n",
       "    }\n",
       "\n",
       "    .dataframe thead th {\n",
       "        text-align: right;\n",
       "    }\n",
       "</style>\n",
       "<table border=\"1\" class=\"dataframe\">\n",
       "  <thead>\n",
       "    <tr style=\"text-align: right;\">\n",
       "      <th></th>\n",
       "      <th>Pregnancies</th>\n",
       "      <th>Glucose</th>\n",
       "      <th>BloodPressure</th>\n",
       "      <th>SkinThickness</th>\n",
       "      <th>Insulin</th>\n",
       "      <th>BMI</th>\n",
       "      <th>DiabetesPedigreeFunction</th>\n",
       "      <th>Age</th>\n",
       "      <th>Outcome</th>\n",
       "    </tr>\n",
       "  </thead>\n",
       "  <tbody>\n",
       "    <tr>\n",
       "      <th>0</th>\n",
       "      <td>6</td>\n",
       "      <td>148</td>\n",
       "      <td>72</td>\n",
       "      <td>35</td>\n",
       "      <td>0</td>\n",
       "      <td>33.6</td>\n",
       "      <td>0.627</td>\n",
       "      <td>50</td>\n",
       "      <td>1</td>\n",
       "    </tr>\n",
       "    <tr>\n",
       "      <th>1</th>\n",
       "      <td>1</td>\n",
       "      <td>85</td>\n",
       "      <td>66</td>\n",
       "      <td>29</td>\n",
       "      <td>0</td>\n",
       "      <td>26.6</td>\n",
       "      <td>0.351</td>\n",
       "      <td>31</td>\n",
       "      <td>0</td>\n",
       "    </tr>\n",
       "    <tr>\n",
       "      <th>2</th>\n",
       "      <td>8</td>\n",
       "      <td>183</td>\n",
       "      <td>64</td>\n",
       "      <td>0</td>\n",
       "      <td>0</td>\n",
       "      <td>23.3</td>\n",
       "      <td>0.672</td>\n",
       "      <td>32</td>\n",
       "      <td>1</td>\n",
       "    </tr>\n",
       "    <tr>\n",
       "      <th>3</th>\n",
       "      <td>1</td>\n",
       "      <td>89</td>\n",
       "      <td>66</td>\n",
       "      <td>23</td>\n",
       "      <td>94</td>\n",
       "      <td>28.1</td>\n",
       "      <td>0.167</td>\n",
       "      <td>21</td>\n",
       "      <td>0</td>\n",
       "    </tr>\n",
       "    <tr>\n",
       "      <th>4</th>\n",
       "      <td>0</td>\n",
       "      <td>137</td>\n",
       "      <td>40</td>\n",
       "      <td>35</td>\n",
       "      <td>168</td>\n",
       "      <td>43.1</td>\n",
       "      <td>2.288</td>\n",
       "      <td>33</td>\n",
       "      <td>1</td>\n",
       "    </tr>\n",
       "  </tbody>\n",
       "</table>\n",
       "</div>"
      ],
      "text/plain": [
       "   Pregnancies  Glucose  BloodPressure  SkinThickness  Insulin   BMI  \\\n",
       "0            6      148             72             35        0  33.6   \n",
       "1            1       85             66             29        0  26.6   \n",
       "2            8      183             64              0        0  23.3   \n",
       "3            1       89             66             23       94  28.1   \n",
       "4            0      137             40             35      168  43.1   \n",
       "\n",
       "   DiabetesPedigreeFunction  Age  Outcome  \n",
       "0                     0.627   50        1  \n",
       "1                     0.351   31        0  \n",
       "2                     0.672   32        1  \n",
       "3                     0.167   21        0  \n",
       "4                     2.288   33        1  "
      ]
     },
     "execution_count": 3,
     "metadata": {},
     "output_type": "execute_result"
    }
   ],
   "source": [
    "#Load Dataset\n",
    "Diabetes=pd.read_csv('./diabetes.csv')\n",
    "Diabetes.head()"
   ]
  },
  {
   "cell_type": "code",
   "execution_count": 4,
   "metadata": {},
   "outputs": [],
   "source": [
    "# defining the dependent and independent variables\n",
    "Xtrain = Diabetes[['Pregnancies', 'Glucose', 'BloodPressure','SkinThickness', 'Insulin', 'BMI','DiabetesPedigreeFunction', 'Age']]\n",
    "ytrain = Diabetes[['Outcome']]"
   ]
  },
  {
   "cell_type": "code",
   "execution_count": 5,
   "metadata": {},
   "outputs": [
    {
     "name": "stdout",
     "output_type": "stream",
     "text": [
      "Optimization terminated successfully.\n",
      "         Current function value: 0.470993\n",
      "         Iterations 6\n",
      "                           Logit Regression Results                           \n",
      "==============================================================================\n",
      "Dep. Variable:                Outcome   No. Observations:                  768\n",
      "Model:                          Logit   Df Residuals:                      759\n",
      "Method:                           MLE   Df Model:                            8\n",
      "Date:                Mon, 30 Jan 2023   Pseudo R-squ.:                  0.2718\n",
      "Time:                        20:50:44   Log-Likelihood:                -361.72\n",
      "converged:                       True   LL-Null:                       -496.74\n",
      "Covariance Type:            nonrobust   LLR p-value:                 9.652e-54\n",
      "============================================================================================\n",
      "                               coef    std err          z      P>|z|      [0.025      0.975]\n",
      "--------------------------------------------------------------------------------------------\n",
      "Intercept                   -8.4047      0.717    -11.728      0.000      -9.809      -7.000\n",
      "Pregnancies                  0.1232      0.032      3.840      0.000       0.060       0.186\n",
      "Glucose                      0.0352      0.004      9.481      0.000       0.028       0.042\n",
      "BloodPressure               -0.0133      0.005     -2.540      0.011      -0.024      -0.003\n",
      "SkinThickness                0.0006      0.007      0.090      0.929      -0.013       0.014\n",
      "Insulin                     -0.0012      0.001     -1.322      0.186      -0.003       0.001\n",
      "BMI                          0.0897      0.015      5.945      0.000       0.060       0.119\n",
      "DiabetesPedigreeFunction     0.9452      0.299      3.160      0.002       0.359       1.531\n",
      "Age                          0.0149      0.009      1.593      0.111      -0.003       0.033\n",
      "============================================================================================\n"
     ]
    }
   ],
   "source": [
    "from statsmodels.formula.api import logit\n",
    "fit_logit = logit(\"Outcome ~ Pregnancies + Glucose+ BloodPressure + SkinThickness + Insulin + BMI  + DiabetesPedigreeFunction + Age\", Diabetes).fit()\n",
    "print(fit_logit.summary())"
   ]
  },
  {
   "cell_type": "markdown",
   "metadata": {},
   "source": [
    "In the output, ‘Iterations‘ refer to the number of times the model iterates over the data, trying to optimize the model. By default, the maximum number of iterations performed is 35, after which the optimization fails.\n"
   ]
  },
  {
   "cell_type": "markdown",
   "metadata": {},
   "source": [
    "### Brief Interpretation"
   ]
  },
  {
   "cell_type": "markdown",
   "metadata": {},
   "source": [
    "#### Coef"
   ]
  },
  {
   "cell_type": "markdown",
   "metadata": {},
   "source": [
    "The interpretation of logistic models is different in the manner that the coefficients are understood from the logit perspective.\n",
    "\n",
    "Each one-unit change in **Pregnancies** will increase the log odds of getting diabetes by 0.1232 or by ~12%\n",
    "\n",
    "Each additional **DiabetesPedigreeFunction** is associated with an average increase of .9452 in the log odds of being diabetic. \n",
    "\n",
    "The log odds for diabetes increases by 0.09 for each unit of **BMI**, 0.03 for each unit of **Glucose**.\n",
    "\n",
    "**BloodPressure** : The odds value is less than 1, means, that as bloodpressure level of a patient is increasing by one unit, the odds of that patient to have diabetes is decreasing by ~1.33%.\n",
    "\n",
    "The regression coefficient for glucose is 0.035. This indicate that one unit increase in the glucose concentration will increase the odds of being diabetes-positive by exp(0.035) 1.04 times.https://www.solumaths.com/en/calculator/calculate/exp/0.035"
   ]
  },
  {
   "cell_type": "markdown",
   "metadata": {},
   "source": [
    "#### P>|z| "
   ]
  },
  {
   "cell_type": "markdown",
   "metadata": {},
   "source": [
    "The values in the P>|z| column represent the p-values for each coefficient.\n",
    "\n",
    "For example:\n",
    "\n",
    "**Age** has a p-value of .111. Since this value is not less than .05, it means there is not a statistically significant relationship between age and whether or not  a person has diabetes.\n",
    "\n",
    "**Pregnancies** has a p-value of less than .05, it means there is a statistically significant relationship between number of pregnancies and diabetes.\n",
    "\n",
    "The p-Values are very important because, we can consider a linear model to be statistically significant only when p-Values are less that the pre-determined statistical significance level, which is ideally 0.05."
   ]
  },
  {
   "cell_type": "markdown",
   "metadata": {},
   "source": [
    "When we look at the summary output, we see that there are significant and not significant variables. We can say that it is significant for Pregnancies, glucose, BMI variable. Estimating variables that are not sgnificant can also lead to unsuccessful results. Therefore, analysis should be continued with variables that best explain the diabetes variable. However, stepwise regression should be used to make precise comments about variables. "
   ]
  },
  {
   "cell_type": "markdown",
   "metadata": {},
   "source": [
    "It can be seen that only 5 out of the 8 predictors are significantly associated to the outcome. These include: pregnant, glucose, pressure, mass and pedigree. From the logistic regression results, it can be noticed that some variables - SkinThickness, insulin and age - are not statistically significant. Keeping them in the model may contribute to overfitting. Therefore, they should be eliminated. This can be done automatically using statistical techniques, including stepwise regression and penalized regression methods.\n"
   ]
  },
  {
   "cell_type": "code",
   "execution_count": null,
   "metadata": {},
   "outputs": [],
   "source": []
  }
 ],
 "metadata": {
  "kernelspec": {
   "display_name": "Python 3",
   "language": "python",
   "name": "python3"
  },
  "language_info": {
   "codemirror_mode": {
    "name": "ipython",
    "version": 3
   },
   "file_extension": ".py",
   "mimetype": "text/x-python",
   "name": "python",
   "nbconvert_exporter": "python",
   "pygments_lexer": "ipython3",
   "version": "3.7.6"
  }
 },
 "nbformat": 4,
 "nbformat_minor": 2
}
