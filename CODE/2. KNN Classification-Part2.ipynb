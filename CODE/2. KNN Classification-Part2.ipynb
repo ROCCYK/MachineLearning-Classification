{
 "cells": [
  {
   "cell_type": "markdown",
   "metadata": {},
   "source": [
    "### What is Covered\n",
    "- KNN Classification\n",
    "- Find the best value of K, using K-Fold Cross validation\n",
    "- Hyper parameter tuning with Grid Search"
   ]
  },
  {
   "cell_type": "code",
   "execution_count": 1,
   "metadata": {},
   "outputs": [],
   "source": [
    "#Load Libraries\n",
    "import numpy as np\n",
    "import pandas as pd\n",
    "import matplotlib.pyplot as plt\n",
    "%matplotlib inline\n",
    "import seaborn as sns"
   ]
  },
  {
   "cell_type": "code",
   "execution_count": 2,
   "metadata": {
    "scrolled": true
   },
   "outputs": [
    {
     "data": {
      "text/html": [
       "<div>\n",
       "<style scoped>\n",
       "    .dataframe tbody tr th:only-of-type {\n",
       "        vertical-align: middle;\n",
       "    }\n",
       "\n",
       "    .dataframe tbody tr th {\n",
       "        vertical-align: top;\n",
       "    }\n",
       "\n",
       "    .dataframe thead th {\n",
       "        text-align: right;\n",
       "    }\n",
       "</style>\n",
       "<table border=\"1\" class=\"dataframe\">\n",
       "  <thead>\n",
       "    <tr style=\"text-align: right;\">\n",
       "      <th></th>\n",
       "      <th>sepal_length</th>\n",
       "      <th>sepal_width</th>\n",
       "      <th>petal_length</th>\n",
       "      <th>petal_width</th>\n",
       "      <th>species</th>\n",
       "    </tr>\n",
       "  </thead>\n",
       "  <tbody>\n",
       "    <tr>\n",
       "      <th>0</th>\n",
       "      <td>5.1</td>\n",
       "      <td>3.5</td>\n",
       "      <td>1.4</td>\n",
       "      <td>0.2</td>\n",
       "      <td>setosa</td>\n",
       "    </tr>\n",
       "    <tr>\n",
       "      <th>1</th>\n",
       "      <td>4.9</td>\n",
       "      <td>3.0</td>\n",
       "      <td>1.4</td>\n",
       "      <td>0.2</td>\n",
       "      <td>setosa</td>\n",
       "    </tr>\n",
       "    <tr>\n",
       "      <th>2</th>\n",
       "      <td>4.7</td>\n",
       "      <td>3.2</td>\n",
       "      <td>1.3</td>\n",
       "      <td>0.2</td>\n",
       "      <td>setosa</td>\n",
       "    </tr>\n",
       "    <tr>\n",
       "      <th>3</th>\n",
       "      <td>4.6</td>\n",
       "      <td>3.1</td>\n",
       "      <td>1.5</td>\n",
       "      <td>0.2</td>\n",
       "      <td>setosa</td>\n",
       "    </tr>\n",
       "    <tr>\n",
       "      <th>4</th>\n",
       "      <td>5.0</td>\n",
       "      <td>3.6</td>\n",
       "      <td>1.4</td>\n",
       "      <td>0.2</td>\n",
       "      <td>setosa</td>\n",
       "    </tr>\n",
       "  </tbody>\n",
       "</table>\n",
       "</div>"
      ],
      "text/plain": [
       "   sepal_length  sepal_width  petal_length  petal_width species\n",
       "0           5.1          3.5           1.4          0.2  setosa\n",
       "1           4.9          3.0           1.4          0.2  setosa\n",
       "2           4.7          3.2           1.3          0.2  setosa\n",
       "3           4.6          3.1           1.5          0.2  setosa\n",
       "4           5.0          3.6           1.4          0.2  setosa"
      ]
     },
     "execution_count": 2,
     "metadata": {},
     "output_type": "execute_result"
    }
   ],
   "source": [
    "#Load Dataset\n",
    "dataset = pd.read_csv('./iris.csv')\n",
    "dataset.head()"
   ]
  },
  {
   "cell_type": "code",
   "execution_count": 3,
   "metadata": {},
   "outputs": [],
   "source": [
    "#Create x and y variables\n",
    "x = dataset.drop('species', axis=1).to_numpy()\n",
    "y = dataset['species'].to_numpy()\n",
    "\n",
    "#Create Train and Test Datasets\n",
    "from sklearn.model_selection import train_test_split\n",
    "x_train, x_test, y_train, y_test = train_test_split(x, y, stratify=y,test_size=0.20,random_state=100)\n",
    "\n",
    "#Scale the data\n",
    "from sklearn.preprocessing import StandardScaler\n",
    "sc = StandardScaler()\n",
    "\n",
    "x_train2 = sc.fit_transform(x_train)\n",
    "x_test2 = sc.transform(x_test)\n",
    "\n",
    "#Models\n",
    "from sklearn.neighbors import KNeighborsClassifier"
   ]
  },
  {
   "cell_type": "code",
   "execution_count": 4,
   "metadata": {},
   "outputs": [],
   "source": [
    "#Construct some pipelines \n",
    "from sklearn.pipeline import Pipeline\n",
    "pipe_knn = Pipeline([('scl', StandardScaler()),\n",
    "                    ('clf', KNeighborsClassifier())])"
   ]
  },
  {
   "cell_type": "code",
   "execution_count": 19,
   "metadata": {},
   "outputs": [],
   "source": [
    "#Define Plot for learning curve\n",
    "\n",
    "from sklearn.model_selection import learning_curve\n",
    "\n",
    "def plot_learning_curves(model):\n",
    "    train_sizes, train_scores, test_scores = learning_curve(estimator=model,\n",
    "                                                            X=x_train2, \n",
    "                                                            y=y_train,\n",
    "                                                            train_sizes= np.linspace(0.1, 1.0, 10),\n",
    "                                                            cv=10,scoring='accuracy',random_state=100)\n",
    "    train_mean = np.mean(train_scores, axis=1)\n",
    "    test_mean = np.mean(test_scores, axis=1)\n",
    "\n",
    "    \n",
    "    plt.plot(train_sizes, train_mean,color='blue', marker='o', \n",
    "             markersize=5, label='training accuracy')\n",
    "\n",
    "    plt.plot(train_sizes, test_mean, color='green', linestyle='--', marker='s', markersize=5,\n",
    "             label='validation accuracy')\n",
    "   \n",
    "    plt.grid(True)\n",
    "    plt.xlabel('Number of training samples')\n",
    "    plt.ylabel('Accuracy')\n",
    "    plt.legend(loc='best')\n",
    "    plt.ylim([0.8, 1.01])\n",
    "    plt.show()"
   ]
  },
  {
   "cell_type": "code",
   "execution_count": 20,
   "metadata": {},
   "outputs": [
    {
     "name": "stdout",
     "output_type": "stream",
     "text": [
      "\n",
      " k-NN Learning Curve\n"
     ]
    },
    {
     "data": {
      "image/png": "[encoded data removed]",
      "text/plain": [
       "<Figure size 432x288 with 1 Axes>"
      ]
     },
     "metadata": {
      "needs_background": "light"
     },
     "output_type": "display_data"
    }
   ],
   "source": [
    "print('\\n k-NN Learning Curve')\n",
    "plot_learning_curves(pipe_knn)"
   ]
  },
  {
   "cell_type": "code",
   "execution_count": 23,
   "metadata": {},
   "outputs": [
    {
     "name": "stdout",
     "output_type": "stream",
     "text": [
      "\n",
      "Estimator: k-NN\n",
      "\n",
      "n_neighbors: 7\n",
      "\n",
      " [[10  0  0]\n",
      " [ 0 10  0]\n",
      " [ 0  3  7]]\n",
      "              precision    recall  f1-score   support\n",
      "\n",
      "      setosa       1.00      1.00      1.00        10\n",
      "  versicolor       0.77      1.00      0.87        10\n",
      "   virginica       1.00      0.70      0.82        10\n",
      "\n",
      "    accuracy                           0.90        30\n",
      "   macro avg       0.92      0.90      0.90        30\n",
      "weighted avg       0.92      0.90      0.90        30\n",
      "\n"
     ]
    }
   ],
   "source": [
    "#Search for an optimal value of K for KNN\n",
    "from sklearn.model_selection import cross_val_score\n",
    "from sklearn import metrics  \n",
    "\n",
    "k_range = range(5, 10)\n",
    "k_scores = []\n",
    "\n",
    "for k in k_range:\n",
    "    knn_org = KNeighborsClassifier(n_neighbors=k)\n",
    "    #obtain cross_val_score for KNeighborsClassifier with k neighbours\n",
    "    scores = cross_val_score(knn_org, x_train2, y_train, cv=10, scoring='accuracy')\n",
    "    #append mean of scores for k neighbors to k_scores list\n",
    "    k_scores.append(scores.mean())\n",
    "    \n",
    "#Print Best Score\n",
    "BestScore = [1 - x for x in k_scores]\n",
    "best_k = k_range[BestScore.index(min(BestScore))]\n",
    "\n",
    "#Create Orginal KNN model\n",
    "classifier_org = KNeighborsClassifier(n_neighbors = best_k)\n",
    "\n",
    "#Fit KNN Model\n",
    "classifier_org.fit(x_train2, y_train)\n",
    "\n",
    "#Prediction\n",
    "y_pred_org = classifier_org.predict(x_test2)\n",
    "  \n",
    "\n",
    "from sklearn.metrics import classification_report, confusion_matrix  \n",
    "y_pred_org = classifier_org.predict(x_test2)\n",
    "target_names=['setosa','versicolor','virginica']\n",
    "print('\\nEstimator: k-NN')\n",
    "print('\\nn_neighbors:',str(best_k))\n",
    "print('\\n', confusion_matrix(y_test,y_pred_org))  \n",
    "print(classification_report(y_test,y_pred_org,target_names=target_names))    "
   ]
  },
  {
   "cell_type": "code",
   "execution_count": 31,
   "metadata": {},
   "outputs": [
    {
     "name": "stdout",
     "output_type": "stream",
     "text": [
      "Optimized Model\n",
      "\n",
      "Estimator: k-NN Regression Model\n",
      "\n",
      "Best params: {'algorithm': 'auto', 'n_neighbors': 7, 'weights': 'distance'}\n",
      "\n",
      "Estimator: k-NN\n",
      "\n",
      "n_neighbors: 7\n",
      "\n",
      " [[10  0  0]\n",
      " [ 0 10  0]\n",
      " [ 0  3  7]]\n",
      "              precision    recall  f1-score   support\n",
      "\n",
      "      setosa       1.00      1.00      1.00        10\n",
      "  versicolor       0.77      1.00      0.87        10\n",
      "   virginica       1.00      0.70      0.82        10\n",
      "\n",
      "    accuracy                           0.90        30\n",
      "   macro avg       0.92      0.90      0.90        30\n",
      "weighted avg       0.92      0.90      0.90        30\n",
      "\n"
     ]
    }
   ],
   "source": [
    "#Gridsearch\n",
    "\n",
    "from sklearn.model_selection import GridSearchCV\n",
    "\n",
    "#k-NN Regression Model\n",
    "knnclass = KNeighborsClassifier()\n",
    "k_range = range(5, 10)\n",
    "param_grid = { \n",
    "           'n_neighbors': k_range,\n",
    "           'algorithm' : ['auto','ball_tree','kd_tree','brute'],\n",
    "           'weights' : ['uniform','distance']}\n",
    "\n",
    "knn_model = GridSearchCV(knnclass, param_grid, cv=10, verbose=0,\n",
    "                         scoring='accuracy')\n",
    "\n",
    "grids = [knn_model] \n",
    "grid_dict = {0:'k-NN Regression Model'}\n",
    "\n",
    "#Model Creation\n",
    "\n",
    "#Create Heading\n",
    "print('Optimized Model') \n",
    "\n",
    "#Fit the grid search objects \n",
    "for idx, optmodel in enumerate(grids): \n",
    "     print('\\nEstimator: {}'.format(grid_dict[idx])) \n",
    "     #Fit grid search\n",
    "     optmodel.fit(x_train2, y_train) \n",
    "     #Best params \n",
    "     print('\\nBest params: {}'.format(optmodel.best_params_)) \n",
    "     # Predict on test data with best params \n",
    "     y_pred3 = optmodel.predict(x_test2) \n",
    "     y_pred_org = classifier_org.predict(x_test2)\n",
    "     #target_names=['setosa','versicolor','virginica']\n",
    "     print('\\nEstimator: k-NN')\n",
    "     print('\\nn_neighbors:',str(best_k))\n",
    "     print('\\n', confusion_matrix(y_test,y_pred_org))  \n",
    "     print(classification_report(y_test,y_pred_org))    "
   ]
  },
  {
   "cell_type": "code",
   "execution_count": null,
   "metadata": {},
   "outputs": [],
   "source": []
  }
 ],
 "metadata": {
  "kernelspec": {
   "display_name": "Python 3",
   "language": "python",
   "name": "python3"
  },
  "language_info": {
   "codemirror_mode": {
    "name": "ipython",
    "version": 3
   },
   "file_extension": ".py",
   "mimetype": "text/x-python",
   "name": "python",
   "nbconvert_exporter": "python",
   "pygments_lexer": "ipython3",
   "version": "3.7.6"
  }
 },
 "nbformat": 4,
 "nbformat_minor": 2
}
