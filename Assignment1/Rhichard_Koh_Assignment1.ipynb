{
 "cells": [
  {
   "cell_type": "markdown",
   "source": [
    "#Assignment #1\n",
    "##Machine Learning - Classification\n",
    "###Rhichard Koh"
   ],
   "metadata": {
    "collapsed": false
   }
  },
  {
   "cell_type": "markdown",
   "source": [
    "3. Data Analysis: Even as a ML engineer you will have to perform some kind\n",
    "of data analysis.\n",
    "Analyse the crime.csv dataset. The dataset shows the crimes happened in a\n",
    "city say “XYZ” over a period of time.\n",
    "The dataset contains the following variables:\n",
    "Year, Population, Murder, Forcible_Rape, Robbery, Aggravated_assault\n",
    "Burglary, Larceny_Theft, Vehicle_Theft.\n",
    "Violent_Crime is the sum of Murder, Forcible_Rape, Robbery and\n",
    "Aggravated_assault\n",
    "Property_Crime is the sum of Burglary, Larceny_Theft and Vehicle_Theft\n",
    "Find the most dangerous and the safest decade to live in this country? ----(5\n",
    "points)"
   ],
   "metadata": {
    "collapsed": false
   }
  },
  {
   "cell_type": "code",
   "execution_count": 3,
   "outputs": [],
   "source": [
    "#3\n",
    "import pandas as pd\n",
    "\n",
    "crime = pd.read_csv('crime.csv')"
   ],
   "metadata": {
    "collapsed": false
   }
  },
  {
   "cell_type": "markdown",
   "source": [
    "Violent_Crime includes Murder, Forcible_Rape, Robbery and Aggravated_assault and Property_Crime includes Burglary, Larceny_Theft and Vehicle_Theft therefore I can just sum both of these columns instead of individually adding all of the crimes."
   ],
   "metadata": {
    "collapsed": false
   }
  },
  {
   "cell_type": "code",
   "execution_count": 3,
   "outputs": [],
   "source": [
    "#3\n",
    "crime['total crime'] = crime['Violent_Crime'] + crime['Property_Crime']"
   ],
   "metadata": {
    "collapsed": false
   }
  },
  {
   "cell_type": "markdown",
   "source": [
    "I am classifying decades from the 0th to the 9th of each decade and storing their sum in a decade variable relative to the sum of each decade. for example sixties is the total crime from the years 1960 - 1969."
   ],
   "metadata": {
    "collapsed": false
   }
  },
  {
   "cell_type": "code",
   "execution_count": 4,
   "outputs": [],
   "source": [
    "#3\n",
    "sixties = crime.loc[crime['Year'].between(1960,1969)]['total crime'].sum()\n",
    "seventies = crime.loc[crime['Year'].between(1970,1979)]['total crime'].sum()\n",
    "eighties = crime.loc[crime['Year'].between(1980,1989)]['total crime'].sum()\n",
    "nineties = crime.loc[crime['Year'].between(1990,1999)]['total crime'].sum()\n",
    "twothousands = crime.loc[crime['Year'].between(2000,2009)]['total crime'].sum()\n",
    "twothousandstens = crime.loc[crime['Year'].between(2010,2019)]['total crime'].sum()"
   ],
   "metadata": {
    "collapsed": false
   }
  },
  {
   "cell_type": "code",
   "execution_count": 5,
   "outputs": [
    {
     "name": "stdout",
     "output_type": "stream",
     "text": [
      "sixties: 49295830\n",
      "seventies: 100991730\n",
      "eighties: 131123228\n",
      "nineties: 136580547\n",
      "twothousands: 114912425\n",
      "twothousandstens: 50167967\n"
     ]
    }
   ],
   "source": [
    "#3\n",
    "print(f'sixties: {sixties}')\n",
    "print(f'seventies: {seventies}')\n",
    "print(f'eighties: {eighties}')\n",
    "print(f'nineties: {nineties}')\n",
    "print(f'twothousands: {twothousands}')\n",
    "print(f'twothousandstens: {twothousandstens}')"
   ],
   "metadata": {
    "collapsed": false
   }
  },
  {
   "cell_type": "markdown",
   "source": [
    "created a dictionary that stores the decade key and the total crime value"
   ],
   "metadata": {
    "collapsed": false
   }
  },
  {
   "cell_type": "code",
   "execution_count": 6,
   "outputs": [],
   "source": [
    "#3\n",
    "kvmap = {\n",
    "    '60s':sixties,\n",
    "    '70s':seventies,\n",
    "    '80s':eighties,\n",
    "    '90s':nineties,\n",
    "    '00s':twothousands,\n",
    "    '10s':twothousandstens\n",
    "}"
   ],
   "metadata": {
    "collapsed": false
   }
  },
  {
   "cell_type": "markdown",
   "source": [
    "sorted the dictionary based on the values from least to greatest"
   ],
   "metadata": {
    "collapsed": false
   }
  },
  {
   "cell_type": "code",
   "execution_count": 7,
   "outputs": [],
   "source": [
    "#3\n",
    "sortedmap = dict(sorted(kvmap.items(), key=lambda x: x[1]))"
   ],
   "metadata": {
    "collapsed": false
   }
  },
  {
   "cell_type": "code",
   "execution_count": 8,
   "outputs": [
    {
     "data": {
      "text/plain": "{'60s': 49295830,\n '10s': 50167967,\n '70s': 100991730,\n '00s': 114912425,\n '80s': 131123228,\n '90s': 136580547}"
     },
     "execution_count": 8,
     "metadata": {},
     "output_type": "execute_result"
    }
   ],
   "source": [
    "#3\n",
    "sortedmap"
   ],
   "metadata": {
    "collapsed": false
   }
  },
  {
   "cell_type": "markdown",
   "source": [
    "Therefore, the safest decade to live in the 60s.\n",
    "Therefore, the most dangerous decade to live in the 90s."
   ],
   "metadata": {
    "collapsed": false
   }
  },
  {
   "cell_type": "markdown",
   "source": [
    "4. Data Preparation: You are given a student_records.csv dataset. The dataset shows whether a student will receive a recommendation letter or not from the college based on several attributes.\n",
    "Data preparation is the process of cleaning and transforming a dataset to make predictions accurately through using ML algorithms. Perform data preparation on student_record.csv so that it can be used to later build a Logistic Regression model for predicting if a student will receive a recommendation or not? {Assume student_records.csv is your training dataset. Students are not required to do the model building, They are just to perform Data Preparation} ----(5 points)"
   ],
   "metadata": {
    "collapsed": false
   }
  },
  {
   "cell_type": "code",
   "execution_count": 144,
   "outputs": [],
   "source": [
    "#4\n",
    "student = pd.read_csv('student_records.csv')"
   ],
   "metadata": {
    "collapsed": false
   }
  },
  {
   "cell_type": "markdown",
   "source": [
    "check to see if we have an even amount of yes and no in the y column"
   ],
   "metadata": {
    "collapsed": false
   }
  },
  {
   "cell_type": "code",
   "execution_count": 145,
   "outputs": [
    {
     "data": {
      "text/plain": "<AxesSubplot:xlabel='Recommend', ylabel='count'>"
     },
     "execution_count": 145,
     "metadata": {},
     "output_type": "execute_result"
    },
    {
     "data": {
      "text/plain": "<Figure size 432x288 with 1 Axes>",
      "image/png": "[encoded data removed]"
     },
     "metadata": {},
     "output_type": "display_data"
    }
   ],
   "source": [
    "#4\n",
    "import seaborn as sns\n",
    "import numpy as np\n",
    "sns.countplot(data=student, x='Recommend')"
   ],
   "metadata": {
    "collapsed": false
   }
  },
  {
   "cell_type": "markdown",
   "source": [
    "we have more No in our y column versus our Yes. Therefore, I will change the Nan in the recommend column into 'Yes' to balance the data."
   ],
   "metadata": {
    "collapsed": false
   }
  },
  {
   "cell_type": "code",
   "execution_count": 146,
   "outputs": [],
   "source": [
    "#4\n",
    "student.Recommend = student.Recommend.fillna('Yes')"
   ],
   "metadata": {
    "collapsed": false
   }
  },
  {
   "cell_type": "markdown",
   "source": [
    "The Name column is insignificant to the model therefore, we can just drop it."
   ],
   "metadata": {
    "collapsed": false
   }
  },
  {
   "cell_type": "code",
   "execution_count": 147,
   "outputs": [
    {
     "data": {
      "text/plain": "   OverallGrade Obedient  ResearchScore  ProjectScore Recommend\n0             A      Yes           90.0            85       Yes\n1             C        N           85.0            51       Yes\n2             F       No           10.0            17        No\n3             B      Yes           75.0            71        No\n4             E       No           20.0            30        No\n5             A      Yes           92.0            79       Yes\n6             B     Yess           60.0            59        No\n7             C       Ye           75.0            33        No\n8             A      yes            NaN            82       Yes\n9             E       No           25.0            30        No\n10            A       No           95.0            85       Yes",
      "text/html": "<div>\n<style scoped>\n    .dataframe tbody tr th:only-of-type {\n        vertical-align: middle;\n    }\n\n    .dataframe tbody tr th {\n        vertical-align: top;\n    }\n\n    .dataframe thead th {\n        text-align: right;\n    }\n</style>\n<table border=\"1\" class=\"dataframe\">\n  <thead>\n    <tr style=\"text-align: right;\">\n      <th></th>\n      <th>OverallGrade</th>\n      <th>Obedient</th>\n      <th>ResearchScore</th>\n      <th>ProjectScore</th>\n      <th>Recommend</th>\n    </tr>\n  </thead>\n  <tbody>\n    <tr>\n      <th>0</th>\n      <td>A</td>\n      <td>Yes</td>\n      <td>90.0</td>\n      <td>85</td>\n      <td>Yes</td>\n    </tr>\n    <tr>\n      <th>1</th>\n      <td>C</td>\n      <td>N</td>\n      <td>85.0</td>\n      <td>51</td>\n      <td>Yes</td>\n    </tr>\n    <tr>\n      <th>2</th>\n      <td>F</td>\n      <td>No</td>\n      <td>10.0</td>\n      <td>17</td>\n      <td>No</td>\n    </tr>\n    <tr>\n      <th>3</th>\n      <td>B</td>\n      <td>Yes</td>\n      <td>75.0</td>\n      <td>71</td>\n      <td>No</td>\n    </tr>\n    <tr>\n      <th>4</th>\n      <td>E</td>\n      <td>No</td>\n      <td>20.0</td>\n      <td>30</td>\n      <td>No</td>\n    </tr>\n    <tr>\n      <th>5</th>\n      <td>A</td>\n      <td>Yes</td>\n      <td>92.0</td>\n      <td>79</td>\n      <td>Yes</td>\n    </tr>\n    <tr>\n      <th>6</th>\n      <td>B</td>\n      <td>Yess</td>\n      <td>60.0</td>\n      <td>59</td>\n      <td>No</td>\n    </tr>\n    <tr>\n      <th>7</th>\n      <td>C</td>\n      <td>Ye</td>\n      <td>75.0</td>\n      <td>33</td>\n      <td>No</td>\n    </tr>\n    <tr>\n      <th>8</th>\n      <td>A</td>\n      <td>yes</td>\n      <td>NaN</td>\n      <td>82</td>\n      <td>Yes</td>\n    </tr>\n    <tr>\n      <th>9</th>\n      <td>E</td>\n      <td>No</td>\n      <td>25.0</td>\n      <td>30</td>\n      <td>No</td>\n    </tr>\n    <tr>\n      <th>10</th>\n      <td>A</td>\n      <td>No</td>\n      <td>95.0</td>\n      <td>85</td>\n      <td>Yes</td>\n    </tr>\n  </tbody>\n</table>\n</div>"
     },
     "execution_count": 147,
     "metadata": {},
     "output_type": "execute_result"
    }
   ],
   "source": [
    "#4\n",
    "student = student.drop(['Name'], axis=1)\n",
    "student"
   ],
   "metadata": {
    "collapsed": false
   }
  },
  {
   "cell_type": "markdown",
   "source": [
    "Need to change all the incorrectly typed yes and no in the obedient column into 'Yes' or 'No'"
   ],
   "metadata": {
    "collapsed": false
   }
  },
  {
   "cell_type": "code",
   "execution_count": 148,
   "outputs": [],
   "source": [
    "#4\n",
    "student.Obedient = student.Obedient.apply(lambda x: 'No' if 'N' in x else 'Yes')"
   ],
   "metadata": {
    "collapsed": false
   }
  },
  {
   "cell_type": "markdown",
   "source": [
    "found the mean of the research score col when overall grade is A and the student is obedient"
   ],
   "metadata": {
    "collapsed": false
   }
  },
  {
   "cell_type": "code",
   "execution_count": 149,
   "outputs": [],
   "source": [
    "#4\n",
    "researchscoremean = student.loc[(student['OverallGrade'] == 'A') & (student['Obedient'] == 'Yes')].ResearchScore.mean()"
   ],
   "metadata": {
    "collapsed": false
   }
  },
  {
   "cell_type": "markdown",
   "source": [
    "filled the missing value of the ResearchScore column with the mean of the \"student['OverallGrade'] == 'A') & (student['Obedient'] == 'Yes'\" condition."
   ],
   "metadata": {
    "collapsed": false
   }
  },
  {
   "cell_type": "code",
   "execution_count": 150,
   "outputs": [],
   "source": [
    "#4\n",
    "student.ResearchScore = student.ResearchScore.fillna(researchscoremean)"
   ],
   "metadata": {
    "collapsed": false
   }
  },
  {
   "cell_type": "markdown",
   "source": [
    "created a map that converts 'Yes' to 1 and 'No' to 0 then mapped the Obedient and Recommend columns. Also created a map for overall grade converting ABCDEF into 543210 then mapping overall grade so that it is encoded."
   ],
   "metadata": {
    "collapsed": false
   }
  },
  {
   "cell_type": "code",
   "execution_count": 151,
   "outputs": [],
   "source": [
    "#4\n",
    "key = {'Yes': 1, 'No': 0}\n",
    "key2 = {\n",
    "    'A':5,\n",
    "    'B':4,\n",
    "    'C':3,\n",
    "    'D':2,\n",
    "    'E':1,\n",
    "    'F':0\n",
    "}\n",
    "\n",
    "student.Obedient = student.Obedient.map(key)\n",
    "student.Recommend = student.Recommend.map(key)\n",
    "student.OverallGrade = student.OverallGrade.map(key2)"
   ],
   "metadata": {
    "collapsed": false
   }
  },
  {
   "cell_type": "code",
   "execution_count": 152,
   "outputs": [
    {
     "data": {
      "text/plain": "    OverallGrade  Obedient  ResearchScore  ProjectScore  Recommend\n0              5         1           90.0            85          1\n1              3         0           85.0            51          1\n2              0         0           10.0            17          0\n3              4         1           75.0            71          0\n4              1         0           20.0            30          0\n5              5         1           92.0            79          1\n6              4         1           60.0            59          0\n7              3         1           75.0            33          0\n8              5         1           91.0            82          1\n9              1         0           25.0            30          0\n10             5         0           95.0            85          1",
      "text/html": "<div>\n<style scoped>\n    .dataframe tbody tr th:only-of-type {\n        vertical-align: middle;\n    }\n\n    .dataframe tbody tr th {\n        vertical-align: top;\n    }\n\n    .dataframe thead th {\n        text-align: right;\n    }\n</style>\n<table border=\"1\" class=\"dataframe\">\n  <thead>\n    <tr style=\"text-align: right;\">\n      <th></th>\n      <th>OverallGrade</th>\n      <th>Obedient</th>\n      <th>ResearchScore</th>\n      <th>ProjectScore</th>\n      <th>Recommend</th>\n    </tr>\n  </thead>\n  <tbody>\n    <tr>\n      <th>0</th>\n      <td>5</td>\n      <td>1</td>\n      <td>90.0</td>\n      <td>85</td>\n      <td>1</td>\n    </tr>\n    <tr>\n      <th>1</th>\n      <td>3</td>\n      <td>0</td>\n      <td>85.0</td>\n      <td>51</td>\n      <td>1</td>\n    </tr>\n    <tr>\n      <th>2</th>\n      <td>0</td>\n      <td>0</td>\n      <td>10.0</td>\n      <td>17</td>\n      <td>0</td>\n    </tr>\n    <tr>\n      <th>3</th>\n      <td>4</td>\n      <td>1</td>\n      <td>75.0</td>\n      <td>71</td>\n      <td>0</td>\n    </tr>\n    <tr>\n      <th>4</th>\n      <td>1</td>\n      <td>0</td>\n      <td>20.0</td>\n      <td>30</td>\n      <td>0</td>\n    </tr>\n    <tr>\n      <th>5</th>\n      <td>5</td>\n      <td>1</td>\n      <td>92.0</td>\n      <td>79</td>\n      <td>1</td>\n    </tr>\n    <tr>\n      <th>6</th>\n      <td>4</td>\n      <td>1</td>\n      <td>60.0</td>\n      <td>59</td>\n      <td>0</td>\n    </tr>\n    <tr>\n      <th>7</th>\n      <td>3</td>\n      <td>1</td>\n      <td>75.0</td>\n      <td>33</td>\n      <td>0</td>\n    </tr>\n    <tr>\n      <th>8</th>\n      <td>5</td>\n      <td>1</td>\n      <td>91.0</td>\n      <td>82</td>\n      <td>1</td>\n    </tr>\n    <tr>\n      <th>9</th>\n      <td>1</td>\n      <td>0</td>\n      <td>25.0</td>\n      <td>30</td>\n      <td>0</td>\n    </tr>\n    <tr>\n      <th>10</th>\n      <td>5</td>\n      <td>0</td>\n      <td>95.0</td>\n      <td>85</td>\n      <td>1</td>\n    </tr>\n  </tbody>\n</table>\n</div>"
     },
     "execution_count": 152,
     "metadata": {},
     "output_type": "execute_result"
    }
   ],
   "source": [
    "#4\n",
    "student"
   ],
   "metadata": {
    "collapsed": false
   }
  },
  {
   "cell_type": "markdown",
   "source": [
    "scaling the data with the min max scaler."
   ],
   "metadata": {
    "collapsed": false
   }
  },
  {
   "cell_type": "code",
   "execution_count": 153,
   "outputs": [],
   "source": [
    "#4\n",
    "from sklearn.preprocessing import MinMaxScaler\n",
    "\n",
    "scaler = MinMaxScaler()\n",
    "\n",
    "scaled_student = scaler.fit_transform(student)"
   ],
   "metadata": {
    "collapsed": false
   }
  },
  {
   "cell_type": "code",
   "execution_count": 154,
   "outputs": [
    {
     "data": {
      "text/plain": "array([[1.        , 1.        , 0.94117647, 1.        , 1.        ],\n       [0.6       , 0.        , 0.88235294, 0.5       , 1.        ],\n       [0.        , 0.        , 0.        , 0.        , 0.        ],\n       [0.8       , 1.        , 0.76470588, 0.79411765, 0.        ],\n       [0.2       , 0.        , 0.11764706, 0.19117647, 0.        ],\n       [1.        , 1.        , 0.96470588, 0.91176471, 1.        ],\n       [0.8       , 1.        , 0.58823529, 0.61764706, 0.        ],\n       [0.6       , 1.        , 0.76470588, 0.23529412, 0.        ],\n       [1.        , 1.        , 0.95294118, 0.95588235, 1.        ],\n       [0.2       , 0.        , 0.17647059, 0.19117647, 0.        ],\n       [1.        , 0.        , 1.        , 1.        , 1.        ]])"
     },
     "execution_count": 154,
     "metadata": {},
     "output_type": "execute_result"
    }
   ],
   "source": [
    "#4\n",
    "scaled_student"
   ],
   "metadata": {
    "collapsed": false
   }
  }
 ],
 "metadata": {
  "kernelspec": {
   "display_name": "Python 3",
   "language": "python",
   "name": "python3"
  },
  "language_info": {
   "codemirror_mode": {
    "name": "ipython",
    "version": 2
   },
   "file_extension": ".py",
   "mimetype": "text/x-python",
   "name": "python",
   "nbconvert_exporter": "python",
   "pygments_lexer": "ipython2",
   "version": "2.7.6"
  }
 },
 "nbformat": 4,
 "nbformat_minor": 0
}
