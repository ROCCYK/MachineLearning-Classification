{
 "cells": [
  {
   "cell_type": "markdown",
   "metadata": {},
   "source": [
    "## Nearest Neighbor item based Collaborative Filtering"
   ]
  },
  {
   "cell_type": "markdown",
   "metadata": {},
   "source": [
    "#### Load dataset"
   ]
  },
  {
   "cell_type": "code",
   "execution_count": 45,
   "metadata": {},
   "outputs": [
    {
     "name": "stderr",
     "output_type": "stream",
     "text": [
      "C:\\Users\\Admin\\AppData\\Local\\Temp\\ipykernel_13660\\769817491.py:4: FutureWarning: The error_bad_lines argument has been deprecated and will be removed in a future version. Use on_bad_lines in the future.\n",
      "\n",
      "\n",
      "  books = pd.read_csv('BX-Books.csv', sep=';', error_bad_lines=False, encoding=\"latin-1\")\n",
      "Skipping line 6452: expected 8 fields, saw 9\n",
      "Skipping line 43667: expected 8 fields, saw 10\n",
      "Skipping line 51751: expected 8 fields, saw 9\n",
      "\n",
      "Skipping line 92038: expected 8 fields, saw 9\n",
      "Skipping line 104319: expected 8 fields, saw 9\n",
      "Skipping line 121768: expected 8 fields, saw 9\n",
      "\n",
      "Skipping line 144058: expected 8 fields, saw 9\n",
      "Skipping line 150789: expected 8 fields, saw 9\n",
      "Skipping line 157128: expected 8 fields, saw 9\n",
      "Skipping line 180189: expected 8 fields, saw 9\n",
      "Skipping line 185738: expected 8 fields, saw 9\n",
      "\n",
      "Skipping line 209388: expected 8 fields, saw 9\n",
      "Skipping line 220626: expected 8 fields, saw 9\n",
      "Skipping line 227933: expected 8 fields, saw 11\n",
      "Skipping line 228957: expected 8 fields, saw 10\n",
      "Skipping line 245933: expected 8 fields, saw 9\n",
      "Skipping line 251296: expected 8 fields, saw 9\n",
      "Skipping line 259941: expected 8 fields, saw 9\n",
      "Skipping line 261529: expected 8 fields, saw 9\n",
      "\n",
      "C:\\Users\\Admin\\AppData\\Local\\Temp\\ipykernel_13660\\769817491.py:4: DtypeWarning: Columns (3) have mixed types. Specify dtype option on import or set low_memory=False.\n",
      "  books = pd.read_csv('BX-Books.csv', sep=';', error_bad_lines=False, encoding=\"latin-1\")\n",
      "C:\\Users\\Admin\\AppData\\Local\\Temp\\ipykernel_13660\\769817491.py:6: FutureWarning: The error_bad_lines argument has been deprecated and will be removed in a future version. Use on_bad_lines in the future.\n",
      "\n",
      "\n",
      "  users = pd.read_csv('BX-Users.csv', sep=';', error_bad_lines=False, encoding=\"latin-1\")\n",
      "C:\\Users\\Admin\\AppData\\Local\\Temp\\ipykernel_13660\\769817491.py:8: FutureWarning: The error_bad_lines argument has been deprecated and will be removed in a future version. Use on_bad_lines in the future.\n",
      "\n",
      "\n",
      "  ratings = pd.read_csv('BX-Book-Ratings.csv', sep=';', error_bad_lines=False, encoding=\"latin-1\")\n"
     ]
    }
   ],
   "source": [
    "import pandas as pd\n",
    "import numpy as np\n",
    "import matplotlib.pyplot as plt\n",
    "books = pd.read_csv('BX-Books.csv', sep=';', error_bad_lines=False, encoding=\"latin-1\")\n",
    "books.columns = ['ISBN', 'bookTitle', 'bookAuthor', 'yearOfPublication', 'publisher', 'imageUrlS', 'imageUrlM', 'imageUrlL']\n",
    "users = pd.read_csv('BX-Users.csv', sep=';', error_bad_lines=False, encoding=\"latin-1\")\n",
    "users.columns = ['userID', 'Location', 'Age']\n",
    "ratings = pd.read_csv('BX-Book-Ratings.csv', sep=';', error_bad_lines=False, encoding=\"latin-1\")\n",
    "ratings.columns = ['userID', 'ISBN', 'bookRating']"
   ]
  },
  {
   "cell_type": "code",
   "execution_count": 46,
   "metadata": {},
   "outputs": [
    {
     "data": {
      "text/plain": "         ISBN                                          bookTitle  \\\n0  0195153448                                Classical Mythology   \n1  0002005018                                       Clara Callan   \n2  0060973129                               Decision in Normandy   \n3  0374157065  Flu: The Story of the Great Influenza Pandemic...   \n4  0393045218                             The Mummies of Urumchi   \n\n             bookAuthor yearOfPublication                   publisher  \\\n0    Mark P. O. Morford              2002     Oxford University Press   \n1  Richard Bruce Wright              2001       HarperFlamingo Canada   \n2          Carlo D'Este              1991             HarperPerennial   \n3      Gina Bari Kolata              1999        Farrar Straus Giroux   \n4       E. J. W. Barber              1999  W. W. Norton &amp; Company   \n\n                                           imageUrlS  \\\n0  http://images.amazon.com/images/P/0195153448.0...   \n1  http://images.amazon.com/images/P/0002005018.0...   \n2  http://images.amazon.com/images/P/0060973129.0...   \n3  http://images.amazon.com/images/P/0374157065.0...   \n4  http://images.amazon.com/images/P/0393045218.0...   \n\n                                           imageUrlM  \\\n0  http://images.amazon.com/images/P/0195153448.0...   \n1  http://images.amazon.com/images/P/0002005018.0...   \n2  http://images.amazon.com/images/P/0060973129.0...   \n3  http://images.amazon.com/images/P/0374157065.0...   \n4  http://images.amazon.com/images/P/0393045218.0...   \n\n                                           imageUrlL  \n0  http://images.amazon.com/images/P/0195153448.0...  \n1  http://images.amazon.com/images/P/0002005018.0...  \n2  http://images.amazon.com/images/P/0060973129.0...  \n3  http://images.amazon.com/images/P/0374157065.0...  \n4  http://images.amazon.com/images/P/0393045218.0...  ",
      "text/html": "<div>\n<style scoped>\n    .dataframe tbody tr th:only-of-type {\n        vertical-align: middle;\n    }\n\n    .dataframe tbody tr th {\n        vertical-align: top;\n    }\n\n    .dataframe thead th {\n        text-align: right;\n    }\n</style>\n<table border=\"1\" class=\"dataframe\">\n  <thead>\n    <tr style=\"text-align: right;\">\n      <th></th>\n      <th>ISBN</th>\n      <th>bookTitle</th>\n      <th>bookAuthor</th>\n      <th>yearOfPublication</th>\n      <th>publisher</th>\n      <th>imageUrlS</th>\n      <th>imageUrlM</th>\n      <th>imageUrlL</th>\n    </tr>\n  </thead>\n  <tbody>\n    <tr>\n      <th>0</th>\n      <td>0195153448</td>\n      <td>Classical Mythology</td>\n      <td>Mark P. O. Morford</td>\n      <td>2002</td>\n      <td>Oxford University Press</td>\n      <td>http://images.amazon.com/images/P/0195153448.0...</td>\n      <td>http://images.amazon.com/images/P/0195153448.0...</td>\n      <td>http://images.amazon.com/images/P/0195153448.0...</td>\n    </tr>\n    <tr>\n      <th>1</th>\n      <td>0002005018</td>\n      <td>Clara Callan</td>\n      <td>Richard Bruce Wright</td>\n      <td>2001</td>\n      <td>HarperFlamingo Canada</td>\n      <td>http://images.amazon.com/images/P/0002005018.0...</td>\n      <td>http://images.amazon.com/images/P/0002005018.0...</td>\n      <td>http://images.amazon.com/images/P/0002005018.0...</td>\n    </tr>\n    <tr>\n      <th>2</th>\n      <td>0060973129</td>\n      <td>Decision in Normandy</td>\n      <td>Carlo D'Este</td>\n      <td>1991</td>\n      <td>HarperPerennial</td>\n      <td>http://images.amazon.com/images/P/0060973129.0...</td>\n      <td>http://images.amazon.com/images/P/0060973129.0...</td>\n      <td>http://images.amazon.com/images/P/0060973129.0...</td>\n    </tr>\n    <tr>\n      <th>3</th>\n      <td>0374157065</td>\n      <td>Flu: The Story of the Great Influenza Pandemic...</td>\n      <td>Gina Bari Kolata</td>\n      <td>1999</td>\n      <td>Farrar Straus Giroux</td>\n      <td>http://images.amazon.com/images/P/0374157065.0...</td>\n      <td>http://images.amazon.com/images/P/0374157065.0...</td>\n      <td>http://images.amazon.com/images/P/0374157065.0...</td>\n    </tr>\n    <tr>\n      <th>4</th>\n      <td>0393045218</td>\n      <td>The Mummies of Urumchi</td>\n      <td>E. J. W. Barber</td>\n      <td>1999</td>\n      <td>W. W. Norton &amp;amp; Company</td>\n      <td>http://images.amazon.com/images/P/0393045218.0...</td>\n      <td>http://images.amazon.com/images/P/0393045218.0...</td>\n      <td>http://images.amazon.com/images/P/0393045218.0...</td>\n    </tr>\n  </tbody>\n</table>\n</div>"
     },
     "execution_count": 46,
     "metadata": {},
     "output_type": "execute_result"
    }
   ],
   "source": [
    "books.head()"
   ]
  },
  {
   "cell_type": "code",
   "execution_count": 47,
   "metadata": {},
   "outputs": [
    {
     "data": {
      "text/plain": "   userID                            Location   Age\n0       1                  nyc, new york, usa   NaN\n1       2           stockton, california, usa  18.0\n2       3     moscow, yukon territory, russia   NaN\n3       4           porto, v.n.gaia, portugal  17.0\n4       5  farnborough, hants, united kingdom   NaN",
      "text/html": "<div>\n<style scoped>\n    .dataframe tbody tr th:only-of-type {\n        vertical-align: middle;\n    }\n\n    .dataframe tbody tr th {\n        vertical-align: top;\n    }\n\n    .dataframe thead th {\n        text-align: right;\n    }\n</style>\n<table border=\"1\" class=\"dataframe\">\n  <thead>\n    <tr style=\"text-align: right;\">\n      <th></th>\n      <th>userID</th>\n      <th>Location</th>\n      <th>Age</th>\n    </tr>\n  </thead>\n  <tbody>\n    <tr>\n      <th>0</th>\n      <td>1</td>\n      <td>nyc, new york, usa</td>\n      <td>NaN</td>\n    </tr>\n    <tr>\n      <th>1</th>\n      <td>2</td>\n      <td>stockton, california, usa</td>\n      <td>18.0</td>\n    </tr>\n    <tr>\n      <th>2</th>\n      <td>3</td>\n      <td>moscow, yukon territory, russia</td>\n      <td>NaN</td>\n    </tr>\n    <tr>\n      <th>3</th>\n      <td>4</td>\n      <td>porto, v.n.gaia, portugal</td>\n      <td>17.0</td>\n    </tr>\n    <tr>\n      <th>4</th>\n      <td>5</td>\n      <td>farnborough, hants, united kingdom</td>\n      <td>NaN</td>\n    </tr>\n  </tbody>\n</table>\n</div>"
     },
     "execution_count": 47,
     "metadata": {},
     "output_type": "execute_result"
    }
   ],
   "source": [
    "users.head()"
   ]
  },
  {
   "cell_type": "code",
   "execution_count": 48,
   "metadata": {},
   "outputs": [
    {
     "data": {
      "text/plain": "   userID        ISBN  bookRating\n0  276725  034545104X           0\n1  276726  0155061224           5\n2  276727  0446520802           0\n3  276729  052165615X           3\n4  276729  0521795028           6",
      "text/html": "<div>\n<style scoped>\n    .dataframe tbody tr th:only-of-type {\n        vertical-align: middle;\n    }\n\n    .dataframe tbody tr th {\n        vertical-align: top;\n    }\n\n    .dataframe thead th {\n        text-align: right;\n    }\n</style>\n<table border=\"1\" class=\"dataframe\">\n  <thead>\n    <tr style=\"text-align: right;\">\n      <th></th>\n      <th>userID</th>\n      <th>ISBN</th>\n      <th>bookRating</th>\n    </tr>\n  </thead>\n  <tbody>\n    <tr>\n      <th>0</th>\n      <td>276725</td>\n      <td>034545104X</td>\n      <td>0</td>\n    </tr>\n    <tr>\n      <th>1</th>\n      <td>276726</td>\n      <td>0155061224</td>\n      <td>5</td>\n    </tr>\n    <tr>\n      <th>2</th>\n      <td>276727</td>\n      <td>0446520802</td>\n      <td>0</td>\n    </tr>\n    <tr>\n      <th>3</th>\n      <td>276729</td>\n      <td>052165615X</td>\n      <td>3</td>\n    </tr>\n    <tr>\n      <th>4</th>\n      <td>276729</td>\n      <td>0521795028</td>\n      <td>6</td>\n    </tr>\n  </tbody>\n</table>\n</div>"
     },
     "execution_count": 48,
     "metadata": {},
     "output_type": "execute_result"
    }
   ],
   "source": [
    "ratings.head()"
   ]
  },
  {
   "cell_type": "markdown",
   "metadata": {},
   "source": [
    "### Q1. How is the distribution of Rating?"
   ]
  },
  {
   "cell_type": "code",
   "execution_count": 49,
   "metadata": {},
   "outputs": [
    {
     "data": {
      "text/plain": "<Figure size 640x480 with 1 Axes>",
      "image/png": "[encoded data removed]"
     },
     "metadata": {},
     "output_type": "display_data"
    }
   ],
   "source": [
    "import seaborn as sns\n",
    "import matplotlib.pyplot as plt\n",
    "sns.countplot(data=ratings,x='bookRating').set(title='Classes Split for Dataset', xlabel='Rating',ylabel='Counts')\n",
    "plt.show()"
   ]
  },
  {
   "cell_type": "markdown",
   "metadata": {},
   "source": [
    "### Q2. To ensure statistical significance, users with less than 200 ratings, and books with less than 100 ratings are excluded. Write a code for the same."
   ]
  },
  {
   "cell_type": "code",
   "execution_count": 50,
   "metadata": {},
   "outputs": [
    {
     "data": {
      "text/plain": "         userID        ISBN  bookRating\n1456     277427  002542730X          10\n1457     277427  0026217457           0\n1458     277427  003008685X           8\n1459     277427  0030615321           0\n1460     277427  0060002050           0\n...         ...         ...         ...\n1147612  275970  3829021860           0\n1147613  275970  4770019572           0\n1147614  275970   896086097           0\n1147615  275970  9626340762           8\n1147616  275970  9626344990           0\n\n[527556 rows x 3 columns]",
      "text/html": "<div>\n<style scoped>\n    .dataframe tbody tr th:only-of-type {\n        vertical-align: middle;\n    }\n\n    .dataframe tbody tr th {\n        vertical-align: top;\n    }\n\n    .dataframe thead th {\n        text-align: right;\n    }\n</style>\n<table border=\"1\" class=\"dataframe\">\n  <thead>\n    <tr style=\"text-align: right;\">\n      <th></th>\n      <th>userID</th>\n      <th>ISBN</th>\n      <th>bookRating</th>\n    </tr>\n  </thead>\n  <tbody>\n    <tr>\n      <th>1456</th>\n      <td>277427</td>\n      <td>002542730X</td>\n      <td>10</td>\n    </tr>\n    <tr>\n      <th>1457</th>\n      <td>277427</td>\n      <td>0026217457</td>\n      <td>0</td>\n    </tr>\n    <tr>\n      <th>1458</th>\n      <td>277427</td>\n      <td>003008685X</td>\n      <td>8</td>\n    </tr>\n    <tr>\n      <th>1459</th>\n      <td>277427</td>\n      <td>0030615321</td>\n      <td>0</td>\n    </tr>\n    <tr>\n      <th>1460</th>\n      <td>277427</td>\n      <td>0060002050</td>\n      <td>0</td>\n    </tr>\n    <tr>\n      <th>...</th>\n      <td>...</td>\n      <td>...</td>\n      <td>...</td>\n    </tr>\n    <tr>\n      <th>1147612</th>\n      <td>275970</td>\n      <td>3829021860</td>\n      <td>0</td>\n    </tr>\n    <tr>\n      <th>1147613</th>\n      <td>275970</td>\n      <td>4770019572</td>\n      <td>0</td>\n    </tr>\n    <tr>\n      <th>1147614</th>\n      <td>275970</td>\n      <td>896086097</td>\n      <td>0</td>\n    </tr>\n    <tr>\n      <th>1147615</th>\n      <td>275970</td>\n      <td>9626340762</td>\n      <td>8</td>\n    </tr>\n    <tr>\n      <th>1147616</th>\n      <td>275970</td>\n      <td>9626344990</td>\n      <td>0</td>\n    </tr>\n  </tbody>\n</table>\n<p>527556 rows × 3 columns</p>\n</div>"
     },
     "execution_count": 50,
     "metadata": {},
     "output_type": "execute_result"
    }
   ],
   "source": [
    "ratings['user freq'] = ratings.userID.map(ratings.userID.value_counts())\n",
    "ratings['book freq'] = ratings.bookRating.map(ratings.bookRating.value_counts())\n",
    "\n",
    "filtered_ratings = ratings[(ratings['user freq'] >= 200) & (ratings['book freq'] >= 100)]\n",
    "filtered_ratings.reset_index(drop=True)\n",
    "filtered_ratings = filtered_ratings.drop(columns=['user freq', 'book freq'])\n",
    "filtered_ratings"
   ]
  },
  {
   "cell_type": "markdown",
   "metadata": {},
   "source": [
    "### Q3. Prepare the dataset for KNN. "
   ]
  },
  {
   "cell_type": "code",
   "execution_count": 51,
   "metadata": {},
   "outputs": [
    {
     "data": {
      "text/plain": "        userID        ISBN  bookRating  \\\n0       277427  002542730X          10   \n1         3363  002542730X           0   \n2        11676  002542730X           6   \n3        12538  002542730X          10   \n4        13552  002542730X           0   \n...        ...         ...         ...   \n488737  275970  1892145022           0   \n488738  275970  1931868123           0   \n488739  275970  3411086211          10   \n488740  275970  3829021860           0   \n488741  275970  4770019572           0   \n\n                                                bookTitle  \n0       Politically Correct Bedtime Stories: Modern Ta...  \n1       Politically Correct Bedtime Stories: Modern Ta...  \n2       Politically Correct Bedtime Stories: Modern Ta...  \n3       Politically Correct Bedtime Stories: Modern Ta...  \n4       Politically Correct Bedtime Stories: Modern Ta...  \n...                                                   ...  \n488737                                   Here Is New York  \n488738  There's a Porcupine in My Outhouse: Misadventu...  \n488739                                         Die Biene.  \n488740                                     The Penis Book  \n488741                                            Musashi  \n\n[488742 rows x 4 columns]",
      "text/html": "<div>\n<style scoped>\n    .dataframe tbody tr th:only-of-type {\n        vertical-align: middle;\n    }\n\n    .dataframe tbody tr th {\n        vertical-align: top;\n    }\n\n    .dataframe thead th {\n        text-align: right;\n    }\n</style>\n<table border=\"1\" class=\"dataframe\">\n  <thead>\n    <tr style=\"text-align: right;\">\n      <th></th>\n      <th>userID</th>\n      <th>ISBN</th>\n      <th>bookRating</th>\n      <th>bookTitle</th>\n    </tr>\n  </thead>\n  <tbody>\n    <tr>\n      <th>0</th>\n      <td>277427</td>\n      <td>002542730X</td>\n      <td>10</td>\n      <td>Politically Correct Bedtime Stories: Modern Ta...</td>\n    </tr>\n    <tr>\n      <th>1</th>\n      <td>3363</td>\n      <td>002542730X</td>\n      <td>0</td>\n      <td>Politically Correct Bedtime Stories: Modern Ta...</td>\n    </tr>\n    <tr>\n      <th>2</th>\n      <td>11676</td>\n      <td>002542730X</td>\n      <td>6</td>\n      <td>Politically Correct Bedtime Stories: Modern Ta...</td>\n    </tr>\n    <tr>\n      <th>3</th>\n      <td>12538</td>\n      <td>002542730X</td>\n      <td>10</td>\n      <td>Politically Correct Bedtime Stories: Modern Ta...</td>\n    </tr>\n    <tr>\n      <th>4</th>\n      <td>13552</td>\n      <td>002542730X</td>\n      <td>0</td>\n      <td>Politically Correct Bedtime Stories: Modern Ta...</td>\n    </tr>\n    <tr>\n      <th>...</th>\n      <td>...</td>\n      <td>...</td>\n      <td>...</td>\n      <td>...</td>\n    </tr>\n    <tr>\n      <th>488737</th>\n      <td>275970</td>\n      <td>1892145022</td>\n      <td>0</td>\n      <td>Here Is New York</td>\n    </tr>\n    <tr>\n      <th>488738</th>\n      <td>275970</td>\n      <td>1931868123</td>\n      <td>0</td>\n      <td>There's a Porcupine in My Outhouse: Misadventu...</td>\n    </tr>\n    <tr>\n      <th>488739</th>\n      <td>275970</td>\n      <td>3411086211</td>\n      <td>10</td>\n      <td>Die Biene.</td>\n    </tr>\n    <tr>\n      <th>488740</th>\n      <td>275970</td>\n      <td>3829021860</td>\n      <td>0</td>\n      <td>The Penis Book</td>\n    </tr>\n    <tr>\n      <th>488741</th>\n      <td>275970</td>\n      <td>4770019572</td>\n      <td>0</td>\n      <td>Musashi</td>\n    </tr>\n  </tbody>\n</table>\n<p>488742 rows × 4 columns</p>\n</div>"
     },
     "execution_count": 51,
     "metadata": {},
     "output_type": "execute_result"
    }
   ],
   "source": [
    "ratings_merged = pd.merge(filtered_ratings, books, on='ISBN')\n",
    "ratings_merged.drop(columns=['bookAuthor', 'yearOfPublication', 'publisher', 'imageUrlS', 'imageUrlM', 'imageUrlL'], axis=1, inplace=True)\n",
    "ratings_merged"
   ]
  },
  {
   "cell_type": "code",
   "execution_count": 52,
   "metadata": {},
   "outputs": [
    {
     "data": {
      "text/plain": "        userID        ISBN  bookRating  \\\n0       277427  002542730X          10   \n1         3363  002542730X           0   \n2        11676  002542730X           6   \n3        12538  002542730X          10   \n4        13552  002542730X           0   \n...        ...         ...         ...   \n488737  275970  1892145022           0   \n488738  275970  1931868123           0   \n488739  275970  3411086211          10   \n488740  275970  3829021860           0   \n488741  275970  4770019572           0   \n\n                                                bookTitle  totalRatingCount  \n0       Politically Correct Bedtime Stories: Modern Ta...                82  \n1       Politically Correct Bedtime Stories: Modern Ta...                82  \n2       Politically Correct Bedtime Stories: Modern Ta...                82  \n3       Politically Correct Bedtime Stories: Modern Ta...                82  \n4       Politically Correct Bedtime Stories: Modern Ta...                82  \n...                                                   ...               ...  \n488737                                   Here Is New York                 1  \n488738  There's a Porcupine in My Outhouse: Misadventu...                 1  \n488739                                         Die Biene.                 1  \n488740                                     The Penis Book                 1  \n488741                                            Musashi                 1  \n\n[488742 rows x 5 columns]",
      "text/html": "<div>\n<style scoped>\n    .dataframe tbody tr th:only-of-type {\n        vertical-align: middle;\n    }\n\n    .dataframe tbody tr th {\n        vertical-align: top;\n    }\n\n    .dataframe thead th {\n        text-align: right;\n    }\n</style>\n<table border=\"1\" class=\"dataframe\">\n  <thead>\n    <tr style=\"text-align: right;\">\n      <th></th>\n      <th>userID</th>\n      <th>ISBN</th>\n      <th>bookRating</th>\n      <th>bookTitle</th>\n      <th>totalRatingCount</th>\n    </tr>\n  </thead>\n  <tbody>\n    <tr>\n      <th>0</th>\n      <td>277427</td>\n      <td>002542730X</td>\n      <td>10</td>\n      <td>Politically Correct Bedtime Stories: Modern Ta...</td>\n      <td>82</td>\n    </tr>\n    <tr>\n      <th>1</th>\n      <td>3363</td>\n      <td>002542730X</td>\n      <td>0</td>\n      <td>Politically Correct Bedtime Stories: Modern Ta...</td>\n      <td>82</td>\n    </tr>\n    <tr>\n      <th>2</th>\n      <td>11676</td>\n      <td>002542730X</td>\n      <td>6</td>\n      <td>Politically Correct Bedtime Stories: Modern Ta...</td>\n      <td>82</td>\n    </tr>\n    <tr>\n      <th>3</th>\n      <td>12538</td>\n      <td>002542730X</td>\n      <td>10</td>\n      <td>Politically Correct Bedtime Stories: Modern Ta...</td>\n      <td>82</td>\n    </tr>\n    <tr>\n      <th>4</th>\n      <td>13552</td>\n      <td>002542730X</td>\n      <td>0</td>\n      <td>Politically Correct Bedtime Stories: Modern Ta...</td>\n      <td>82</td>\n    </tr>\n    <tr>\n      <th>...</th>\n      <td>...</td>\n      <td>...</td>\n      <td>...</td>\n      <td>...</td>\n      <td>...</td>\n    </tr>\n    <tr>\n      <th>488737</th>\n      <td>275970</td>\n      <td>1892145022</td>\n      <td>0</td>\n      <td>Here Is New York</td>\n      <td>1</td>\n    </tr>\n    <tr>\n      <th>488738</th>\n      <td>275970</td>\n      <td>1931868123</td>\n      <td>0</td>\n      <td>There's a Porcupine in My Outhouse: Misadventu...</td>\n      <td>1</td>\n    </tr>\n    <tr>\n      <th>488739</th>\n      <td>275970</td>\n      <td>3411086211</td>\n      <td>10</td>\n      <td>Die Biene.</td>\n      <td>1</td>\n    </tr>\n    <tr>\n      <th>488740</th>\n      <td>275970</td>\n      <td>3829021860</td>\n      <td>0</td>\n      <td>The Penis Book</td>\n      <td>1</td>\n    </tr>\n    <tr>\n      <th>488741</th>\n      <td>275970</td>\n      <td>4770019572</td>\n      <td>0</td>\n      <td>Musashi</td>\n      <td>1</td>\n    </tr>\n  </tbody>\n</table>\n<p>488742 rows × 5 columns</p>\n</div>"
     },
     "execution_count": 52,
     "metadata": {},
     "output_type": "execute_result"
    }
   ],
   "source": [
    "ratings_merged['totalRatingCount'] = ratings_merged.bookTitle.map(ratings_merged.bookTitle.value_counts())\n",
    "ratings_merged"
   ]
  },
  {
   "cell_type": "markdown",
   "metadata": {},
   "source": [
    "#### Filter to users in US and Canada only"
   ]
  },
  {
   "cell_type": "code",
   "execution_count": 59,
   "metadata": {},
   "outputs": [
    {
     "data": {
      "text/plain": "         index  userID        ISBN  bookRating  \\\n0            0  277427  002542730X          10   \n1            1  277427  0026217457           0   \n2            2  277427  003008685X           8   \n3            3  277427  0030615321           0   \n4            4  277427  0060002050           0   \n...        ...     ...         ...         ...   \n428081  486447  216012  1583144803           7   \n428082  486448  216012  1583145486           7   \n428083  486449  216012  1585710164           7   \n428084  486450  216012  1585710806           7   \n428085  486451  216012  1929642121           8   \n\n                                                bookTitle  totalRatingCount  \\\n0       Politically Correct Bedtime Stories: Modern Ta...                82   \n1                      Vegetarian Times Complete Cookbook                 7   \n2                                                Pioneers                 1   \n3        Ask for May, Settle for June (A Doonesbury book)                 1   \n4                       On a Wicked Dawn (Cynster Novels)                13   \n...                                                   ...               ...   \n428081  First Touch: Serenade/Forever Yours/Beguiled (...                 1   \n428082                       Southern Comfort (Arabesque)                 1   \n428083      Bound by Love (Indigo: Sensuous Love Stories)                 1   \n428084     Tattooed Tears (Indigo: Sensuous Love Stories)                 1   \n428085  Blessed Assurance: Inspirational Short Stories...                 1   \n\n                     Location  \n0       gilbert, arizona, usa  \n1       gilbert, arizona, usa  \n2       gilbert, arizona, usa  \n3       gilbert, arizona, usa  \n4       gilbert, arizona, usa  \n...                       ...  \n428081    clevelad, ohio, usa  \n428082    clevelad, ohio, usa  \n428083    clevelad, ohio, usa  \n428084    clevelad, ohio, usa  \n428085    clevelad, ohio, usa  \n\n[428086 rows x 7 columns]",
      "text/html": "<div>\n<style scoped>\n    .dataframe tbody tr th:only-of-type {\n        vertical-align: middle;\n    }\n\n    .dataframe tbody tr th {\n        vertical-align: top;\n    }\n\n    .dataframe thead th {\n        text-align: right;\n    }\n</style>\n<table border=\"1\" class=\"dataframe\">\n  <thead>\n    <tr style=\"text-align: right;\">\n      <th></th>\n      <th>index</th>\n      <th>userID</th>\n      <th>ISBN</th>\n      <th>bookRating</th>\n      <th>bookTitle</th>\n      <th>totalRatingCount</th>\n      <th>Location</th>\n    </tr>\n  </thead>\n  <tbody>\n    <tr>\n      <th>0</th>\n      <td>0</td>\n      <td>277427</td>\n      <td>002542730X</td>\n      <td>10</td>\n      <td>Politically Correct Bedtime Stories: Modern Ta...</td>\n      <td>82</td>\n      <td>gilbert, arizona, usa</td>\n    </tr>\n    <tr>\n      <th>1</th>\n      <td>1</td>\n      <td>277427</td>\n      <td>0026217457</td>\n      <td>0</td>\n      <td>Vegetarian Times Complete Cookbook</td>\n      <td>7</td>\n      <td>gilbert, arizona, usa</td>\n    </tr>\n    <tr>\n      <th>2</th>\n      <td>2</td>\n      <td>277427</td>\n      <td>003008685X</td>\n      <td>8</td>\n      <td>Pioneers</td>\n      <td>1</td>\n      <td>gilbert, arizona, usa</td>\n    </tr>\n    <tr>\n      <th>3</th>\n      <td>3</td>\n      <td>277427</td>\n      <td>0030615321</td>\n      <td>0</td>\n      <td>Ask for May, Settle for June (A Doonesbury book)</td>\n      <td>1</td>\n      <td>gilbert, arizona, usa</td>\n    </tr>\n    <tr>\n      <th>4</th>\n      <td>4</td>\n      <td>277427</td>\n      <td>0060002050</td>\n      <td>0</td>\n      <td>On a Wicked Dawn (Cynster Novels)</td>\n      <td>13</td>\n      <td>gilbert, arizona, usa</td>\n    </tr>\n    <tr>\n      <th>...</th>\n      <td>...</td>\n      <td>...</td>\n      <td>...</td>\n      <td>...</td>\n      <td>...</td>\n      <td>...</td>\n      <td>...</td>\n    </tr>\n    <tr>\n      <th>428081</th>\n      <td>486447</td>\n      <td>216012</td>\n      <td>1583144803</td>\n      <td>7</td>\n      <td>First Touch: Serenade/Forever Yours/Beguiled (...</td>\n      <td>1</td>\n      <td>clevelad, ohio, usa</td>\n    </tr>\n    <tr>\n      <th>428082</th>\n      <td>486448</td>\n      <td>216012</td>\n      <td>1583145486</td>\n      <td>7</td>\n      <td>Southern Comfort (Arabesque)</td>\n      <td>1</td>\n      <td>clevelad, ohio, usa</td>\n    </tr>\n    <tr>\n      <th>428083</th>\n      <td>486449</td>\n      <td>216012</td>\n      <td>1585710164</td>\n      <td>7</td>\n      <td>Bound by Love (Indigo: Sensuous Love Stories)</td>\n      <td>1</td>\n      <td>clevelad, ohio, usa</td>\n    </tr>\n    <tr>\n      <th>428084</th>\n      <td>486450</td>\n      <td>216012</td>\n      <td>1585710806</td>\n      <td>7</td>\n      <td>Tattooed Tears (Indigo: Sensuous Love Stories)</td>\n      <td>1</td>\n      <td>clevelad, ohio, usa</td>\n    </tr>\n    <tr>\n      <th>428085</th>\n      <td>486451</td>\n      <td>216012</td>\n      <td>1929642121</td>\n      <td>8</td>\n      <td>Blessed Assurance: Inspirational Short Stories...</td>\n      <td>1</td>\n      <td>clevelad, ohio, usa</td>\n    </tr>\n  </tbody>\n</table>\n<p>428086 rows × 7 columns</p>\n</div>"
     },
     "execution_count": 59,
     "metadata": {},
     "output_type": "execute_result"
    }
   ],
   "source": [
    "us_canada = pd.merge(ratings_merged, users, on='userID')\n",
    "us_canada = us_canada.drop(columns=['Age'])\n",
    "us_canada = us_canada[us_canada['Location'].str.contains(\"usa|canada\")].reset_index()\n",
    "us_canada"
   ]
  },
  {
   "cell_type": "code",
   "execution_count": 69,
   "outputs": [
    {
     "data": {
      "text/plain": "         index  userID        ISBN  bookRating  \\\n0            0  277427  002542730X          10   \n13          13  277427  0060930535           0   \n15          15  277427  0060934417           0   \n18          18  277427  0061009059           9   \n24          24  277427  006440188X           0   \n...        ...     ...         ...         ...   \n427752  486118  216012  0515136530           7   \n427779  486145  216012  1551668874           8   \n427793  486159  216012  0399149848           7   \n427817  486183  216012  0373218540           7   \n428055  486421  216012  155166044X           7   \n\n                                                bookTitle  totalRatingCount  \\\n0       Politically Correct Bedtime Stories: Modern Ta...                82   \n13                          The Poisonwood Bible: A Novel               133   \n15                                     Bel Canto: A Novel               108   \n18      One for the Money (Stephanie Plum Novels (Pape...               108   \n24                                      The Secret Garden                79   \n...                                                   ...               ...   \n427752      Key of Valor (Roberts, Nora. Key Trilogy, 3.)                63   \n427779                                       Heartbreaker                88   \n427793                                         Birthright                52   \n427817                                          Dangerous                57   \n428055                                      No Safe Place                53   \n\n                     Location  \n0       gilbert, arizona, usa  \n13      gilbert, arizona, usa  \n15      gilbert, arizona, usa  \n18      gilbert, arizona, usa  \n24      gilbert, arizona, usa  \n...                       ...  \n427752    clevelad, ohio, usa  \n427779    clevelad, ohio, usa  \n427793    clevelad, ohio, usa  \n427817    clevelad, ohio, usa  \n428055    clevelad, ohio, usa  \n\n[56396 rows x 7 columns]",
      "text/html": "<div>\n<style scoped>\n    .dataframe tbody tr th:only-of-type {\n        vertical-align: middle;\n    }\n\n    .dataframe tbody tr th {\n        vertical-align: top;\n    }\n\n    .dataframe thead th {\n        text-align: right;\n    }\n</style>\n<table border=\"1\" class=\"dataframe\">\n  <thead>\n    <tr style=\"text-align: right;\">\n      <th></th>\n      <th>index</th>\n      <th>userID</th>\n      <th>ISBN</th>\n      <th>bookRating</th>\n      <th>bookTitle</th>\n      <th>totalRatingCount</th>\n      <th>Location</th>\n    </tr>\n  </thead>\n  <tbody>\n    <tr>\n      <th>0</th>\n      <td>0</td>\n      <td>277427</td>\n      <td>002542730X</td>\n      <td>10</td>\n      <td>Politically Correct Bedtime Stories: Modern Ta...</td>\n      <td>82</td>\n      <td>gilbert, arizona, usa</td>\n    </tr>\n    <tr>\n      <th>13</th>\n      <td>13</td>\n      <td>277427</td>\n      <td>0060930535</td>\n      <td>0</td>\n      <td>The Poisonwood Bible: A Novel</td>\n      <td>133</td>\n      <td>gilbert, arizona, usa</td>\n    </tr>\n    <tr>\n      <th>15</th>\n      <td>15</td>\n      <td>277427</td>\n      <td>0060934417</td>\n      <td>0</td>\n      <td>Bel Canto: A Novel</td>\n      <td>108</td>\n      <td>gilbert, arizona, usa</td>\n    </tr>\n    <tr>\n      <th>18</th>\n      <td>18</td>\n      <td>277427</td>\n      <td>0061009059</td>\n      <td>9</td>\n      <td>One for the Money (Stephanie Plum Novels (Pape...</td>\n      <td>108</td>\n      <td>gilbert, arizona, usa</td>\n    </tr>\n    <tr>\n      <th>24</th>\n      <td>24</td>\n      <td>277427</td>\n      <td>006440188X</td>\n      <td>0</td>\n      <td>The Secret Garden</td>\n      <td>79</td>\n      <td>gilbert, arizona, usa</td>\n    </tr>\n    <tr>\n      <th>...</th>\n      <td>...</td>\n      <td>...</td>\n      <td>...</td>\n      <td>...</td>\n      <td>...</td>\n      <td>...</td>\n      <td>...</td>\n    </tr>\n    <tr>\n      <th>427752</th>\n      <td>486118</td>\n      <td>216012</td>\n      <td>0515136530</td>\n      <td>7</td>\n      <td>Key of Valor (Roberts, Nora. Key Trilogy, 3.)</td>\n      <td>63</td>\n      <td>clevelad, ohio, usa</td>\n    </tr>\n    <tr>\n      <th>427779</th>\n      <td>486145</td>\n      <td>216012</td>\n      <td>1551668874</td>\n      <td>8</td>\n      <td>Heartbreaker</td>\n      <td>88</td>\n      <td>clevelad, ohio, usa</td>\n    </tr>\n    <tr>\n      <th>427793</th>\n      <td>486159</td>\n      <td>216012</td>\n      <td>0399149848</td>\n      <td>7</td>\n      <td>Birthright</td>\n      <td>52</td>\n      <td>clevelad, ohio, usa</td>\n    </tr>\n    <tr>\n      <th>427817</th>\n      <td>486183</td>\n      <td>216012</td>\n      <td>0373218540</td>\n      <td>7</td>\n      <td>Dangerous</td>\n      <td>57</td>\n      <td>clevelad, ohio, usa</td>\n    </tr>\n    <tr>\n      <th>428055</th>\n      <td>486421</td>\n      <td>216012</td>\n      <td>155166044X</td>\n      <td>7</td>\n      <td>No Safe Place</td>\n      <td>53</td>\n      <td>clevelad, ohio, usa</td>\n    </tr>\n  </tbody>\n</table>\n<p>56396 rows × 7 columns</p>\n</div>"
     },
     "execution_count": 69,
     "metadata": {},
     "output_type": "execute_result"
    }
   ],
   "source": [
    "popularity_threshold = 50\n",
    "us_canada_popular_books = us_canada.query('totalRatingCount >= @popularity_threshold')\n",
    "us_canada_popular_books"
   ],
   "metadata": {
    "collapsed": false
   }
  },
  {
   "cell_type": "code",
   "execution_count": 70,
   "metadata": {},
   "outputs": [],
   "source": [
    "## create a Pivot matrix\n",
    "us_canada_user_rating_pivot = us_canada_popular_books.pivot_table(index='bookTitle', columns='userID', values='bookRating').fillna(0)"
   ]
  },
  {
   "cell_type": "code",
   "execution_count": 71,
   "metadata": {},
   "outputs": [
    {
     "data": {
      "text/plain": "userID                 254     2276    2766    2977    3363    4017    4385    \\\nbookTitle                                                                       \n1984                      9.0     0.0     0.0     0.0     0.0     0.0     0.0   \n1st to Die: A Novel       0.0     0.0     0.0     0.0     0.0     0.0     0.0   \n2nd Chance                0.0    10.0     0.0     0.0     0.0     0.0     0.0   \n4 Blondes                 0.0     0.0     0.0     0.0     0.0     0.0     0.0   \n84 Charing Cross Road     0.0     0.0     0.0     0.0     0.0     0.0     0.0   \n\nuserID                 6242    6251    6323    ...  271448  271705  273979  \\\nbookTitle                                      ...                           \n1984                      0.0     0.0     0.0  ...     0.0    10.0     0.0   \n1st to Die: A Novel       0.0     0.0     0.0  ...     0.0     0.0     0.0   \n2nd Chance                0.0     0.0     0.0  ...     0.0     0.0     0.0   \n4 Blondes                 0.0     0.0     0.0  ...     0.0     0.0     0.0   \n84 Charing Cross Road     0.0     0.0     0.0  ...     0.0     0.0     0.0   \n\nuserID                 274061  274308  274808  275970  277427  277639  278418  \nbookTitle                                                                      \n1984                      0.0     0.0     0.0     0.0     0.0     0.0     0.0  \n1st to Die: A Novel       0.0     0.0     0.0     0.0     0.0     0.0     0.0  \n2nd Chance                0.0     0.0     0.0     0.0     0.0     0.0     0.0  \n4 Blondes                 0.0     0.0     0.0     0.0     0.0     0.0     0.0  \n84 Charing Cross Road     0.0     0.0     0.0    10.0     0.0     0.0     0.0  \n\n[5 rows x 734 columns]",
      "text/html": "<div>\n<style scoped>\n    .dataframe tbody tr th:only-of-type {\n        vertical-align: middle;\n    }\n\n    .dataframe tbody tr th {\n        vertical-align: top;\n    }\n\n    .dataframe thead th {\n        text-align: right;\n    }\n</style>\n<table border=\"1\" class=\"dataframe\">\n  <thead>\n    <tr style=\"text-align: right;\">\n      <th>userID</th>\n      <th>254</th>\n      <th>2276</th>\n      <th>2766</th>\n      <th>2977</th>\n      <th>3363</th>\n      <th>4017</th>\n      <th>4385</th>\n      <th>6242</th>\n      <th>6251</th>\n      <th>6323</th>\n      <th>...</th>\n      <th>271448</th>\n      <th>271705</th>\n      <th>273979</th>\n      <th>274061</th>\n      <th>274308</th>\n      <th>274808</th>\n      <th>275970</th>\n      <th>277427</th>\n      <th>277639</th>\n      <th>278418</th>\n    </tr>\n    <tr>\n      <th>bookTitle</th>\n      <th></th>\n      <th></th>\n      <th></th>\n      <th></th>\n      <th></th>\n      <th></th>\n      <th></th>\n      <th></th>\n      <th></th>\n      <th></th>\n      <th></th>\n      <th></th>\n      <th></th>\n      <th></th>\n      <th></th>\n      <th></th>\n      <th></th>\n      <th></th>\n      <th></th>\n      <th></th>\n      <th></th>\n    </tr>\n  </thead>\n  <tbody>\n    <tr>\n      <th>1984</th>\n      <td>9.0</td>\n      <td>0.0</td>\n      <td>0.0</td>\n      <td>0.0</td>\n      <td>0.0</td>\n      <td>0.0</td>\n      <td>0.0</td>\n      <td>0.0</td>\n      <td>0.0</td>\n      <td>0.0</td>\n      <td>...</td>\n      <td>0.0</td>\n      <td>10.0</td>\n      <td>0.0</td>\n      <td>0.0</td>\n      <td>0.0</td>\n      <td>0.0</td>\n      <td>0.0</td>\n      <td>0.0</td>\n      <td>0.0</td>\n      <td>0.0</td>\n    </tr>\n    <tr>\n      <th>1st to Die: A Novel</th>\n      <td>0.0</td>\n      <td>0.0</td>\n      <td>0.0</td>\n      <td>0.0</td>\n      <td>0.0</td>\n      <td>0.0</td>\n      <td>0.0</td>\n      <td>0.0</td>\n      <td>0.0</td>\n      <td>0.0</td>\n      <td>...</td>\n      <td>0.0</td>\n      <td>0.0</td>\n      <td>0.0</td>\n      <td>0.0</td>\n      <td>0.0</td>\n      <td>0.0</td>\n      <td>0.0</td>\n      <td>0.0</td>\n      <td>0.0</td>\n      <td>0.0</td>\n    </tr>\n    <tr>\n      <th>2nd Chance</th>\n      <td>0.0</td>\n      <td>10.0</td>\n      <td>0.0</td>\n      <td>0.0</td>\n      <td>0.0</td>\n      <td>0.0</td>\n      <td>0.0</td>\n      <td>0.0</td>\n      <td>0.0</td>\n      <td>0.0</td>\n      <td>...</td>\n      <td>0.0</td>\n      <td>0.0</td>\n      <td>0.0</td>\n      <td>0.0</td>\n      <td>0.0</td>\n      <td>0.0</td>\n      <td>0.0</td>\n      <td>0.0</td>\n      <td>0.0</td>\n      <td>0.0</td>\n    </tr>\n    <tr>\n      <th>4 Blondes</th>\n      <td>0.0</td>\n      <td>0.0</td>\n      <td>0.0</td>\n      <td>0.0</td>\n      <td>0.0</td>\n      <td>0.0</td>\n      <td>0.0</td>\n      <td>0.0</td>\n      <td>0.0</td>\n      <td>0.0</td>\n      <td>...</td>\n      <td>0.0</td>\n      <td>0.0</td>\n      <td>0.0</td>\n      <td>0.0</td>\n      <td>0.0</td>\n      <td>0.0</td>\n      <td>0.0</td>\n      <td>0.0</td>\n      <td>0.0</td>\n      <td>0.0</td>\n    </tr>\n    <tr>\n      <th>84 Charing Cross Road</th>\n      <td>0.0</td>\n      <td>0.0</td>\n      <td>0.0</td>\n      <td>0.0</td>\n      <td>0.0</td>\n      <td>0.0</td>\n      <td>0.0</td>\n      <td>0.0</td>\n      <td>0.0</td>\n      <td>0.0</td>\n      <td>...</td>\n      <td>0.0</td>\n      <td>0.0</td>\n      <td>0.0</td>\n      <td>0.0</td>\n      <td>0.0</td>\n      <td>0.0</td>\n      <td>10.0</td>\n      <td>0.0</td>\n      <td>0.0</td>\n      <td>0.0</td>\n    </tr>\n  </tbody>\n</table>\n<p>5 rows × 734 columns</p>\n</div>"
     },
     "execution_count": 71,
     "metadata": {},
     "output_type": "execute_result"
    }
   ],
   "source": [
    "us_canada_user_rating_pivot.head()"
   ]
  },
  {
   "cell_type": "markdown",
   "metadata": {},
   "source": [
    "### Q3. Implementing KNN"
   ]
  },
  {
   "cell_type": "code",
   "execution_count": 72,
   "metadata": {},
   "outputs": [
    {
     "data": {
      "text/plain": "NearestNeighbors(algorithm='brute', metric='cosine')",
      "text/html": "<style>#sk-container-id-1 {color: black;background-color: white;}#sk-container-id-1 pre{padding: 0;}#sk-container-id-1 div.sk-toggleable {background-color: white;}#sk-container-id-1 label.sk-toggleable__label {cursor: pointer;display: block;width: 100%;margin-bottom: 0;padding: 0.3em;box-sizing: border-box;text-align: center;}#sk-container-id-1 label.sk-toggleable__label-arrow:before {content: \"▸\";float: left;margin-right: 0.25em;color: #696969;}#sk-container-id-1 label.sk-toggleable__label-arrow:hover:before {color: black;}#sk-container-id-1 div.sk-estimator:hover label.sk-toggleable__label-arrow:before {color: black;}#sk-container-id-1 div.sk-toggleable__content {max-height: 0;max-width: 0;overflow: hidden;text-align: left;background-color: #f0f8ff;}#sk-container-id-1 div.sk-toggleable__content pre {margin: 0.2em;color: black;border-radius: 0.25em;background-color: #f0f8ff;}#sk-container-id-1 input.sk-toggleable__control:checked~div.sk-toggleable__content {max-height: 200px;max-width: 100%;overflow: auto;}#sk-container-id-1 input.sk-toggleable__control:checked~label.sk-toggleable__label-arrow:before {content: \"▾\";}#sk-container-id-1 div.sk-estimator input.sk-toggleable__control:checked~label.sk-toggleable__label {background-color: #d4ebff;}#sk-container-id-1 div.sk-label input.sk-toggleable__control:checked~label.sk-toggleable__label {background-color: #d4ebff;}#sk-container-id-1 input.sk-hidden--visually {border: 0;clip: rect(1px 1px 1px 1px);clip: rect(1px, 1px, 1px, 1px);height: 1px;margin: -1px;overflow: hidden;padding: 0;position: absolute;width: 1px;}#sk-container-id-1 div.sk-estimator {font-family: monospace;background-color: #f0f8ff;border: 1px dotted black;border-radius: 0.25em;box-sizing: border-box;margin-bottom: 0.5em;}#sk-container-id-1 div.sk-estimator:hover {background-color: #d4ebff;}#sk-container-id-1 div.sk-parallel-item::after {content: \"\";width: 100%;border-bottom: 1px solid gray;flex-grow: 1;}#sk-container-id-1 div.sk-label:hover label.sk-toggleable__label {background-color: #d4ebff;}#sk-container-id-1 div.sk-serial::before {content: \"\";position: absolute;border-left: 1px solid gray;box-sizing: border-box;top: 0;bottom: 0;left: 50%;z-index: 0;}#sk-container-id-1 div.sk-serial {display: flex;flex-direction: column;align-items: center;background-color: white;padding-right: 0.2em;padding-left: 0.2em;position: relative;}#sk-container-id-1 div.sk-item {position: relative;z-index: 1;}#sk-container-id-1 div.sk-parallel {display: flex;align-items: stretch;justify-content: center;background-color: white;position: relative;}#sk-container-id-1 div.sk-item::before, #sk-container-id-1 div.sk-parallel-item::before {content: \"\";position: absolute;border-left: 1px solid gray;box-sizing: border-box;top: 0;bottom: 0;left: 50%;z-index: -1;}#sk-container-id-1 div.sk-parallel-item {display: flex;flex-direction: column;z-index: 1;position: relative;background-color: white;}#sk-container-id-1 div.sk-parallel-item:first-child::after {align-self: flex-end;width: 50%;}#sk-container-id-1 div.sk-parallel-item:last-child::after {align-self: flex-start;width: 50%;}#sk-container-id-1 div.sk-parallel-item:only-child::after {width: 0;}#sk-container-id-1 div.sk-dashed-wrapped {border: 1px dashed gray;margin: 0 0.4em 0.5em 0.4em;box-sizing: border-box;padding-bottom: 0.4em;background-color: white;}#sk-container-id-1 div.sk-label label {font-family: monospace;font-weight: bold;display: inline-block;line-height: 1.2em;}#sk-container-id-1 div.sk-label-container {text-align: center;}#sk-container-id-1 div.sk-container {/* jupyter's `normalize.less` sets `[hidden] { display: none; }` but bootstrap.min.css set `[hidden] { display: none !important; }` so we also need the `!important` here to be able to override the default hidden behavior on the sphinx rendered scikit-learn.org. See: https://github.com/scikit-learn/scikit-learn/issues/21755 */display: inline-block !important;position: relative;}#sk-container-id-1 div.sk-text-repr-fallback {display: none;}</style><div id=\"sk-container-id-1\" class=\"sk-top-container\"><div class=\"sk-text-repr-fallback\"><pre>NearestNeighbors(algorithm=&#x27;brute&#x27;, metric=&#x27;cosine&#x27;)</pre><b>In a Jupyter environment, please rerun this cell to show the HTML representation or trust the notebook. <br />On GitHub, the HTML representation is unable to render, please try loading this page with nbviewer.org.</b></div><div class=\"sk-container\" hidden><div class=\"sk-item\"><div class=\"sk-estimator sk-toggleable\"><input class=\"sk-toggleable__control sk-hidden--visually\" id=\"sk-estimator-id-1\" type=\"checkbox\" checked><label for=\"sk-estimator-id-1\" class=\"sk-toggleable__label sk-toggleable__label-arrow\">NearestNeighbors</label><div class=\"sk-toggleable__content\"><pre>NearestNeighbors(algorithm=&#x27;brute&#x27;, metric=&#x27;cosine&#x27;)</pre></div></div></div></div></div>"
     },
     "execution_count": 72,
     "metadata": {},
     "output_type": "execute_result"
    }
   ],
   "source": [
    "from scipy.sparse import csr_matrix\n",
    "from sklearn.neighbors import NearestNeighbors\n",
    "us_canada_matrix = csr_matrix(us_canada_user_rating_pivot.values)\n",
    "\n",
    "model = NearestNeighbors(algorithm = 'brute', leaf_size=30, metric='cosine', metric_params=None, n_jobs=None, n_neighbors=5, p=2, radius=1.0)\n",
    "model.fit(us_canada_matrix)"
   ]
  },
  {
   "cell_type": "markdown",
   "metadata": {},
   "source": [
    "### Q4. Test the model and make some recommendations"
   ]
  },
  {
   "cell_type": "code",
   "execution_count": 78,
   "metadata": {},
   "outputs": [
    {
     "name": "stdout",
     "output_type": "stream",
     "text": [
      "697\n"
     ]
    }
   ],
   "source": [
    "index = 697\n",
    "print(index)\n",
    "distances, indices = model.kneighbors(us_canada_user_rating_pivot.iloc[index,:].values.reshape(1, -1), n_neighbors=6)"
   ]
  },
  {
   "cell_type": "code",
   "execution_count": 82,
   "metadata": {},
   "outputs": [
    {
     "name": "stdout",
     "output_type": "stream",
     "text": [
      "Recommendations for Two for the Dough:\n",
      "\n",
      "1: One for the Money (A Stephanie Plum Novel), with distance of 0.46029460916745557:\n",
      "2: Four To Score (A Stephanie Plum Novel), with distance of 0.4759446042965845:\n",
      "3: Seven Up (A Stephanie Plum Novel), with distance of 0.564404444336312:\n",
      "4: Three To Get Deadly : A Stephanie Plum Novel (A Stephanie Plum Novel), with distance of 0.6062949290328636:\n",
      "5: High Five (A Stephanie Plum Novel), with distance of 0.6158044244609056:\n"
     ]
    }
   ],
   "source": [
    "for i in range(0, len(distances.flatten())):\n",
    "    if i == 0:\n",
    "        print(f'Recommendations for {us_canada_user_rating_pivot.index[index]}:\\n')\n",
    "    else:\n",
    "        print(f'{i}: {us_canada_user_rating_pivot.index[indices.flatten()[i]]}, with distance of {distances.flatten()[i]}:')"
   ]
  }
 ],
 "metadata": {
  "kernelspec": {
   "display_name": "Python 3",
   "language": "python",
   "name": "python3"
  },
  "language_info": {
   "codemirror_mode": {
    "name": "ipython",
    "version": 3
   },
   "file_extension": ".py",
   "mimetype": "text/x-python",
   "name": "python",
   "nbconvert_exporter": "python",
   "pygments_lexer": "ipython3",
   "version": "3.7.6"
  }
 },
 "nbformat": 4,
 "nbformat_minor": 4
}
